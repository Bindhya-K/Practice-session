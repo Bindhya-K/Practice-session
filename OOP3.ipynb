{
  "nbformat": 4,
  "nbformat_minor": 0,
  "metadata": {
    "colab": {
      "provenance": [],
      "collapsed_sections": [
        "BCleRtX43caS",
        "KBbGNTtQ47mJ",
        "ExIxsv4y-oEd",
        "OcQhJvXVALgp",
        "sEsGEqOHCSWG",
        "v1M5Yh9ZZO0z"
      ],
      "include_colab_link": true
    },
    "kernelspec": {
      "name": "python3",
      "display_name": "Python 3"
    },
    "language_info": {
      "name": "python"
    }
  },
  "cells": [
    {
      "cell_type": "markdown",
      "metadata": {
        "id": "view-in-github",
        "colab_type": "text"
      },
      "source": [
        "<a href=\"https://colab.research.google.com/github/Bindhya-K/Practice-session/blob/main/OOP3.ipynb\" target=\"_parent\"><img src=\"https://colab.research.google.com/assets/colab-badge.svg\" alt=\"Open In Colab\"/></a>"
      ]
    },
    {
      "cell_type": "markdown",
      "source": [
        "### `Problem-1:` Class inheritence\n",
        "\n",
        "Create a **Bus** child class that inherits from the Vehicle class. The default fare charge of any vehicle is seating capacity * 100. If Vehicle is Bus instance, we need to add an extra 10% on full fare as a maintenance charge. So total fare for bus instance will become the final amount = total fare + 10% of the total fare.\n",
        "\n",
        "Note: The bus seating capacity is 50. so the final fare amount should be 5500. You need to override the fare() method of a Vehicle class in Bus class."
      ],
      "metadata": {
        "id": "BCleRtX43caS"
      }
    },
    {
      "cell_type": "code",
      "execution_count": 6,
      "metadata": {
        "colab": {
          "base_uri": "https://localhost:8080/"
        },
        "id": "6jVFCXKz3YZI",
        "outputId": "68f9af93-9796-4925-a271-acd3a82fbc08"
      },
      "outputs": [
        {
          "output_type": "stream",
          "name": "stdout",
          "text": [
            "The seating capacity is  50\n",
            "The final amount is  5500.0\n"
          ]
        }
      ],
      "source": [
        "# Write code here\n",
        "class Vehicle:\n",
        "  def __init__(self,seating_capacity):\n",
        "    self.seating_capacity=seating_capacity\n",
        "    print('The seating capacity is ', self.seating_capacity)\n",
        "  def fare(self):\n",
        "    return self.seating_capacity *100\n",
        "class Bus(Vehicle):\n",
        "  def fare(self):\n",
        "    self.total_fare = super().fare()\n",
        "    self.final_amount = self.total_fare +0.1*self.total_fare\n",
        "    print('The final amount is ',self.final_amount)\n",
        "bus = Bus(50)\n",
        "bus.fare()\n",
        "\n",
        "\n"
      ]
    },
    {
      "cell_type": "markdown",
      "source": [
        "### `Problem-2:` Class Inheritence\n",
        "\n",
        "Create a Bus class that inherits from the Vehicle class. Give the capacity argument of *Bus.seating_capacity()* a default value of 50.\n",
        "\n",
        "Use the following code for your parent Vehicle class."
      ],
      "metadata": {
        "id": "KBbGNTtQ47mJ"
      }
    },
    {
      "cell_type": "code",
      "source": [],
      "metadata": {
        "id": "MwOnYE_14M-r"
      },
      "execution_count": null,
      "outputs": []
    },
    {
      "cell_type": "code",
      "source": [],
      "metadata": {
        "id": "Py5Gr0ip5OBB"
      },
      "execution_count": null,
      "outputs": []
    },
    {
      "cell_type": "markdown",
      "source": [
        "### `Problem-3:` Write a program that has a class Point. Define another class Location which has two objects (Location & Destination) of class Point. Also define a function in Location that prints the reflection of Destination on the x axis."
      ],
      "metadata": {
        "id": "ExIxsv4y-oEd"
      }
    },
    {
      "cell_type": "code",
      "source": [
        "class Point:\n",
        "  def __init__(self,x):\n",
        "    self.x=x\n",
        "class Location:\n",
        "  def __init__(self,loc,des):\n",
        "    self.x = loc.x\n",
        "    self.y = des.x\n",
        "  def reflection(self):\n",
        "    return 'The reflection of ({},{}) about x-axis is ({},{})'.format(self.x,self.y,self.x,-self.y)\n",
        "\n",
        "\n",
        "\n",
        "p1=Point(2)\n",
        "p2=Point(-4)\n",
        "l=Location(p1,p2)\n",
        "l.reflection()\n",
        "\n"
      ],
      "metadata": {
        "id": "yT2QtzQp5VAB",
        "outputId": "2d93934b-9845-4a2a-e1eb-979074d5c4fc",
        "colab": {
          "base_uri": "https://localhost:8080/",
          "height": 54
        }
      },
      "execution_count": 12,
      "outputs": [
        {
          "output_type": "stream",
          "name": "stdout",
          "text": [
            "-4\n"
          ]
        },
        {
          "output_type": "execute_result",
          "data": {
            "text/plain": [
              "'The reflection of (2,-4) about x-axis is (2,4)'"
            ],
            "application/vnd.google.colaboratory.intrinsic+json": {
              "type": "string"
            }
          },
          "metadata": {},
          "execution_count": 12
        }
      ]
    },
    {
      "cell_type": "markdown",
      "source": [
        "### `Problem-4:` Write a program that has an abstract class Polygon. Derive two classes Rectangle and Triamgle from Polygon and write methods to get the details of their dimensions and hence calculate the area."
      ],
      "metadata": {
        "id": "OcQhJvXVALgp"
      }
    },
    {
      "cell_type": "code",
      "source": [
        "from abc import ABC, abstractmethod\n",
        "class Polygon(ABC):\n",
        "  def __init__(self,l,b):\n",
        "    self.length = l\n",
        "    self.height = b\n",
        "    print('The dimensions are :',self.length,self.height)\n",
        "  @abstractmethod\n",
        "  def area(self):\n",
        "    pass\n",
        "class Rectangle(Polygon):\n",
        "  def area(self):\n",
        "    self.area1 = self.length *self.height\n",
        "    return self.area1\n",
        "class Triangle(Polygon):\n",
        "  def area(self):\n",
        "    self.area2 = 0.5*self.length *self.height\n",
        "    return self.area2\n",
        "rec=Rectangle(3,4)\n",
        "tri=Triangle(2,3)\n",
        "r1 = rec.area()\n",
        "print(r1)\n",
        "\n",
        "t1 = tri.area()\n",
        "print(t1)"
      ],
      "metadata": {
        "id": "9IMrtdUH__eA",
        "outputId": "ce35afdb-8dfc-4ed6-d705-dd402c3e4558",
        "colab": {
          "base_uri": "https://localhost:8080/"
        }
      },
      "execution_count": 21,
      "outputs": [
        {
          "output_type": "stream",
          "name": "stdout",
          "text": [
            "The dimensions are : 3 4\n",
            "The dimensions are : 2 3\n",
            "12\n",
            "3.0\n"
          ]
        }
      ]
    },
    {
      "cell_type": "markdown",
      "source": [
        "### `Problem-5:` Write a program with class Bill. The users have the option to pay the bill either by cheque or by cash. Use the inheritance to model this situation."
      ],
      "metadata": {
        "id": "sEsGEqOHCSWG"
      }
    },
    {
      "cell_type": "code",
      "source": [
        "class Cheque:\n",
        "  def __init__(self,amount):\n",
        "    self.amount=amount\n",
        "    print('the bill of amount {} is payed by cheque'.format(self.amount))\n",
        "class Cash:\n",
        "  def __init__(self,amount):\n",
        "    self.amount=amount\n",
        "    print('the bill of amount {} is payed by cash'.format(self.amount))\n",
        "\n",
        "class Bill(Cash,Cheque):\n",
        "  def __init__(self,amount):\n",
        "    self.amount=amount\n",
        "    print(\"type 1 to pay the bill by cheque and 2 by cash\")\n",
        "    inp1=input()\n",
        "    if inp1=='1':\n",
        "      p1 = Cheque(self.amount)\n",
        "    elif inp1 =='2':\n",
        "      p2 = Cash(self.amount)\n",
        "    else:\n",
        "      print('Please enter a valid number')\n",
        "\n",
        "bill = Bill(3000)"
      ],
      "metadata": {
        "id": "l0WFyP2PB3nf",
        "outputId": "a165fd11-06a9-4c16-bbf9-a76474553de6",
        "colab": {
          "base_uri": "https://localhost:8080/"
        }
      },
      "execution_count": 25,
      "outputs": [
        {
          "output_type": "stream",
          "name": "stdout",
          "text": [
            "type 1 to pay the bill by cheque and 2 by cash\n",
            "1\n",
            "the bill of amount 3000 is payed by cheque\n"
          ]
        }
      ]
    },
    {
      "cell_type": "markdown",
      "source": [
        "###`Q-6:` FlexibleDict\n",
        "As of now we are accessing values from dictionary with exact keys. Now we want to amend accessing values functionality. if a dict have key `1` (int) the even if we try to access values by giving `'1'` (1 as str) as key, we should get the same result and vice versa.\n",
        "\n",
        "Write a class `FlexibleDict` upon builtin `dict` class with above required functionality.\n",
        "\n",
        "Hint- `dict[key] => dict.__getitem__(key)`"
      ],
      "metadata": {
        "id": "v1M5Yh9ZZO0z"
      }
    },
    {
      "cell_type": "markdown",
      "source": [
        "Ex.\n",
        "```\n",
        "fd = FlexibleDict()\n",
        "fd['a'] = 100\n",
        "print(fd['a']) # Like regular dict\n",
        "\n",
        "fd[5] = 500\n",
        "print(fd[5]) # Like regular dict\n",
        "\n",
        "fd[1] = 100\n",
        "print(fd['1']) # actual Key is int but still trying to access through str key.\n",
        "fd['1'] = 100\n",
        "print(fd[1])\n",
        "\n",
        "```\n",
        "`Output:`\n",
        "```\n",
        "100\n",
        "500\n",
        "100\n",
        "100\n",
        "\n",
        "```"
      ],
      "metadata": {
        "id": "uajGeWegbfda"
      }
    },
    {
      "cell_type": "code",
      "source": [
        "from typing import Dict, Union\n",
        "class FlexibleDict:\n",
        "  def __init__(self):\n",
        "    self.data = {}\n",
        "  def __getitem__(self,index:any):\n",
        "    if type(index)==int:\n",
        "      index=str(index)\n",
        "    return self.data[index]\n",
        "  def __setitem__(self,index:any,value:int)->Dict[any,int]:\n",
        "    if type(index) == int:\n",
        "      index=str(index)\n",
        "    self.data[index]=value\n",
        "  '''def create_dic(self,key:Union[int,str],value:int)-> Dict[Union[int,str],int]:\n",
        "    self.data[self.key]=self.value\n",
        "  def getdata(self,key:Union[int,str])->int:\n",
        "    return self.data[key]'''\n",
        "fd = FlexibleDict()\n",
        ""
      ],
      "metadata": {
        "id": "OHLbOtCxZ2nw",
        "outputId": "06625893-0ee9-4373-ea3b-f7f1b5abf18e",
        "colab": {
          "base_uri": "https://localhost:8080/"
        }
      },
      "execution_count": 47,
      "outputs": [
        {
          "output_type": "stream",
          "name": "stdout",
          "text": [
            "{}\n"
          ]
        }
      ]
    },
    {
      "cell_type": "code",
      "source": [
        "fd['a'] = 100\n",
        "print(fd['a'])\n",
        "fd[1] =120\n",
        "print(fd[1])\n",
        "fd['2']=200\n",
        "print(fd[2])\n",
        "\n",
        "\n",
        "\n"
      ],
      "metadata": {
        "id": "7NM8r__dmeMf",
        "outputId": "34539882-115c-4ef7-85d5-30aa4c83f11f",
        "colab": {
          "base_uri": "https://localhost:8080/"
        }
      },
      "execution_count": 49,
      "outputs": [
        {
          "output_type": "stream",
          "name": "stdout",
          "text": [
            "100\n",
            "120\n",
            "200\n"
          ]
        }
      ]
    },
    {
      "cell_type": "code",
      "source": [],
      "metadata": {
        "id": "waHSud8Ymkz-"
      },
      "execution_count": null,
      "outputs": []
    }
  ]
}