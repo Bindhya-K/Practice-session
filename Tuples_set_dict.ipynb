{
  "nbformat": 4,
  "nbformat_minor": 0,
  "metadata": {
    "colab": {
      "provenance": [],
      "include_colab_link": true
    },
    "kernelspec": {
      "name": "python3",
      "display_name": "Python 3"
    },
    "language_info": {
      "name": "python"
    }
  },
  "cells": [
    {
      "cell_type": "markdown",
      "metadata": {
        "id": "view-in-github",
        "colab_type": "text"
      },
      "source": [
        "<a href=\"https://colab.research.google.com/github/Bindhya-K/Practice-session/blob/main/Tuples_set_dict.ipynb\" target=\"_parent\"><img src=\"https://colab.research.google.com/assets/colab-badge.svg\" alt=\"Open In Colab\"/></a>"
      ]
    },
    {
      "cell_type": "markdown",
      "source": [
        "# Tuple\n"
      ],
      "metadata": {
        "id": "limD5IAfl-tz"
      }
    },
    {
      "cell_type": "markdown",
      "source": [
        "###`Q1:` Join Tuples if similar initial element\n",
        "While working with Python tuples, we can have a problem in which we need to perform concatenation of records from the similarity of initial element. This problem can have applications in data domains such as Data Science.\n",
        "\n",
        "For eg.\n",
        "```\n",
        "Input  : test_list = [(5, 6), (5, 7), (5, 8), (6, 10), (7, 13)]\n",
        "Output : [(5, 6, 7, 8), (6, 10), (7, 13)]\n",
        "```"
      ],
      "metadata": {
        "id": "nSTn3CjbmB7q"
      }
    },
    {
      "cell_type": "code",
      "source": [
        "# write your code here\n",
        "test_list = [(5, 6), (5, 7), (5, 8), (6, 10), (7, 13)]\n",
        "l1=[test_list[0]]\n",
        "for i in range(len(test_list)):\n",
        "  if (l1[i][0] == test_list[i+1][0]):\n",
        "    l1=l1[i]+(test_list[i+1],)\n",
        "  else:\n",
        "    l1 = l1.append(test_list[i])\n",
        "print(l1)"
      ],
      "metadata": {
        "id": "hwVeEvH9rJzU",
        "outputId": "d2d247e4-fabc-417b-819f-5591e9c7f950",
        "colab": {
          "base_uri": "https://localhost:8080/",
          "height": 211
        }
      },
      "execution_count": null,
      "outputs": [
        {
          "output_type": "error",
          "ename": "TypeError",
          "evalue": "'int' object is not subscriptable",
          "traceback": [
            "\u001b[0;31m---------------------------------------------------------------------------\u001b[0m",
            "\u001b[0;31mTypeError\u001b[0m                                 Traceback (most recent call last)",
            "\u001b[0;32m<ipython-input-26-eb7d22a8fbb2>\u001b[0m in \u001b[0;36m<cell line: 4>\u001b[0;34m()\u001b[0m\n\u001b[1;32m      3\u001b[0m \u001b[0ml1\u001b[0m\u001b[0;34m=\u001b[0m\u001b[0;34m[\u001b[0m\u001b[0mtest_list\u001b[0m\u001b[0;34m[\u001b[0m\u001b[0;36m0\u001b[0m\u001b[0;34m]\u001b[0m\u001b[0;34m]\u001b[0m\u001b[0;34m\u001b[0m\u001b[0;34m\u001b[0m\u001b[0m\n\u001b[1;32m      4\u001b[0m \u001b[0;32mfor\u001b[0m \u001b[0mi\u001b[0m \u001b[0;32min\u001b[0m \u001b[0mrange\u001b[0m\u001b[0;34m(\u001b[0m\u001b[0mlen\u001b[0m\u001b[0;34m(\u001b[0m\u001b[0mtest_list\u001b[0m\u001b[0;34m)\u001b[0m\u001b[0;34m)\u001b[0m\u001b[0;34m:\u001b[0m\u001b[0;34m\u001b[0m\u001b[0;34m\u001b[0m\u001b[0m\n\u001b[0;32m----> 5\u001b[0;31m   \u001b[0;32mif\u001b[0m \u001b[0;34m(\u001b[0m\u001b[0ml1\u001b[0m\u001b[0;34m[\u001b[0m\u001b[0mi\u001b[0m\u001b[0;34m]\u001b[0m\u001b[0;34m[\u001b[0m\u001b[0;36m0\u001b[0m\u001b[0;34m]\u001b[0m \u001b[0;34m==\u001b[0m \u001b[0mtest_list\u001b[0m\u001b[0;34m[\u001b[0m\u001b[0mi\u001b[0m\u001b[0;34m+\u001b[0m\u001b[0;36m1\u001b[0m\u001b[0;34m]\u001b[0m\u001b[0;34m[\u001b[0m\u001b[0;36m0\u001b[0m\u001b[0;34m]\u001b[0m\u001b[0;34m)\u001b[0m\u001b[0;34m:\u001b[0m\u001b[0;34m\u001b[0m\u001b[0;34m\u001b[0m\u001b[0m\n\u001b[0m\u001b[1;32m      6\u001b[0m     \u001b[0ml1\u001b[0m\u001b[0;34m=\u001b[0m\u001b[0ml1\u001b[0m\u001b[0;34m[\u001b[0m\u001b[0mi\u001b[0m\u001b[0;34m]\u001b[0m\u001b[0;34m+\u001b[0m\u001b[0;34m(\u001b[0m\u001b[0mtest_list\u001b[0m\u001b[0;34m[\u001b[0m\u001b[0mi\u001b[0m\u001b[0;34m+\u001b[0m\u001b[0;36m1\u001b[0m\u001b[0;34m]\u001b[0m\u001b[0;34m,\u001b[0m\u001b[0;34m)\u001b[0m\u001b[0;34m\u001b[0m\u001b[0;34m\u001b[0m\u001b[0m\n\u001b[1;32m      7\u001b[0m   \u001b[0;32melse\u001b[0m\u001b[0;34m:\u001b[0m\u001b[0;34m\u001b[0m\u001b[0;34m\u001b[0m\u001b[0m\n",
            "\u001b[0;31mTypeError\u001b[0m: 'int' object is not subscriptable"
          ]
        }
      ]
    },
    {
      "cell_type": "code",
      "source": [
        "a=[(1,2),(3,4)]\n",
        "for i in range(len(a)):\n",
        "  if a[i][0]==a[i+1][0]:\n",
        "    print(hi)\n",
        "  else:\n",
        "    print('bye')"
      ],
      "metadata": {
        "id": "wkSmtdGj-uOD",
        "outputId": "b906d9fe-1838-4bc2-aa51-1aeff5c758a2",
        "colab": {
          "base_uri": "https://localhost:8080/",
          "height": 228
        }
      },
      "execution_count": null,
      "outputs": [
        {
          "output_type": "stream",
          "name": "stdout",
          "text": [
            "bye\n"
          ]
        },
        {
          "output_type": "error",
          "ename": "IndexError",
          "evalue": "list index out of range",
          "traceback": [
            "\u001b[0;31m---------------------------------------------------------------------------\u001b[0m",
            "\u001b[0;31mIndexError\u001b[0m                                Traceback (most recent call last)",
            "\u001b[0;32m<ipython-input-28-80b6d7e714fa>\u001b[0m in \u001b[0;36m<cell line: 2>\u001b[0;34m()\u001b[0m\n\u001b[1;32m      1\u001b[0m \u001b[0ma\u001b[0m\u001b[0;34m=\u001b[0m\u001b[0;34m[\u001b[0m\u001b[0;34m(\u001b[0m\u001b[0;36m1\u001b[0m\u001b[0;34m,\u001b[0m\u001b[0;36m2\u001b[0m\u001b[0;34m)\u001b[0m\u001b[0;34m,\u001b[0m\u001b[0;34m(\u001b[0m\u001b[0;36m3\u001b[0m\u001b[0;34m,\u001b[0m\u001b[0;36m4\u001b[0m\u001b[0;34m)\u001b[0m\u001b[0;34m]\u001b[0m\u001b[0;34m\u001b[0m\u001b[0;34m\u001b[0m\u001b[0m\n\u001b[1;32m      2\u001b[0m \u001b[0;32mfor\u001b[0m \u001b[0mi\u001b[0m \u001b[0;32min\u001b[0m \u001b[0mrange\u001b[0m\u001b[0;34m(\u001b[0m\u001b[0mlen\u001b[0m\u001b[0;34m(\u001b[0m\u001b[0ma\u001b[0m\u001b[0;34m)\u001b[0m\u001b[0;34m)\u001b[0m\u001b[0;34m:\u001b[0m\u001b[0;34m\u001b[0m\u001b[0;34m\u001b[0m\u001b[0m\n\u001b[0;32m----> 3\u001b[0;31m   \u001b[0;32mif\u001b[0m \u001b[0ma\u001b[0m\u001b[0;34m[\u001b[0m\u001b[0mi\u001b[0m\u001b[0;34m]\u001b[0m\u001b[0;34m[\u001b[0m\u001b[0;36m0\u001b[0m\u001b[0;34m]\u001b[0m\u001b[0;34m==\u001b[0m\u001b[0ma\u001b[0m\u001b[0;34m[\u001b[0m\u001b[0mi\u001b[0m\u001b[0;34m+\u001b[0m\u001b[0;36m1\u001b[0m\u001b[0;34m]\u001b[0m\u001b[0;34m[\u001b[0m\u001b[0;36m0\u001b[0m\u001b[0;34m]\u001b[0m\u001b[0;34m:\u001b[0m\u001b[0;34m\u001b[0m\u001b[0;34m\u001b[0m\u001b[0m\n\u001b[0m\u001b[1;32m      4\u001b[0m     \u001b[0mprint\u001b[0m\u001b[0;34m(\u001b[0m\u001b[0mhi\u001b[0m\u001b[0;34m)\u001b[0m\u001b[0;34m\u001b[0m\u001b[0;34m\u001b[0m\u001b[0m\n\u001b[1;32m      5\u001b[0m   \u001b[0;32melse\u001b[0m\u001b[0;34m:\u001b[0m\u001b[0;34m\u001b[0m\u001b[0;34m\u001b[0m\u001b[0m\n",
            "\u001b[0;31mIndexError\u001b[0m: list index out of range"
          ]
        }
      ]
    },
    {
      "cell_type": "markdown",
      "source": [
        "###`Q2:` Multiply Adjacent elements (both side) and take sum of right and lest side multiplication result.\n",
        "\n",
        "\n",
        "For eg.\n",
        "```\n",
        "The original tuple : (1, 5, 7, 8, 10)\n",
        "Resultant tuple after multiplication :\n",
        "\n",
        "(1*5, 1*5+5*7, 7*5 + 7*8, 8*7 + 8*10, 10*8) -> (5, 40, 91, 136, 80)\n",
        "\n",
        "output-(5, 40, 91, 136, 80)\n",
        "```"
      ],
      "metadata": {
        "id": "ujQpZOFFmeha"
      }
    },
    {
      "cell_type": "code",
      "source": [
        "# write your code here"
      ],
      "metadata": {
        "id": "N9lveEsArNVc"
      },
      "execution_count": null,
      "outputs": []
    },
    {
      "cell_type": "markdown",
      "source": [
        "###`Q3`: Check is tuples are same or not?\n",
        "Two tuples would be same if both tuples have same element at same index\n",
        "```\n",
        "t1 = (1,2,3,0)\n",
        "t2 = (0,1,2,3)\n",
        "\n",
        "t1 and t2 are not same\n",
        "```"
      ],
      "metadata": {
        "id": "x0psnUiu2ZVp"
      }
    },
    {
      "cell_type": "code",
      "source": [
        "# write your code here"
      ],
      "metadata": {
        "id": "JMVw9EhSrPEc"
      },
      "execution_count": null,
      "outputs": []
    },
    {
      "cell_type": "markdown",
      "source": [
        "###`Q4`: Count no of tuples, list and set from a list\n",
        "```\n",
        "list1 = [{'hi', 'bye'},{'Geeks', 'forGeeks'},('a', 'b'),['hi', 'bye'],['a', 'b']]\n",
        "\n",
        "```\n",
        "`Output:`\n",
        "\n",
        "```\n",
        "List-2\n",
        "Set-2\n",
        "Tuples-1\n",
        "```"
      ],
      "metadata": {
        "id": "aZ4rObHK4fCN"
      }
    },
    {
      "cell_type": "code",
      "source": [
        "# write your code here"
      ],
      "metadata": {
        "id": "g_Bnuczk69tG"
      },
      "execution_count": null,
      "outputs": []
    },
    {
      "cell_type": "markdown",
      "source": [
        "###`Q5`: Shortlist Students for a Job role\n",
        "Ask user to input students record and store in tuples for each record. Then Ask user to input three things he wants in the candidate- Primary Skill, Higher Education, Year of Graduation.\n",
        "\n",
        "Show every students record in form of tuples if matches all required criteria.\n",
        "\n",
        "It is assumed that there will be only one primry skill.\n",
        "\n",
        "If no such candidate found, print `No such candidate`\n",
        "\n",
        "`Input:`\n",
        "```\n",
        "Enter No of records- 2\n",
        "Enter Details of student-1\n",
        "Enter Student name- Manohar\n",
        "Enter Higher Education- B.Tech\n",
        "Enter Primary Skill- Python\n",
        "Enter Year of Graduation- 2022\n",
        "Enter Details of student-2\n",
        "Enter Student name- Ponian\n",
        "Enter Higher Education- B.Sc.\n",
        "Enter Primary Skill- C++\n",
        "Enter Year of Graduation- 2020\n",
        "\n",
        "Enter Job Role Requirement\n",
        "Enter Skill- Python\n",
        "Enter Higher Education- B.Tech\n",
        "Enter Year of Graduation- 2022\n",
        "```\n",
        "\n",
        "`Output`\n",
        "```\n",
        "('Manohar', 'B.tech', 'Python', '2022')\n",
        "```\n"
      ],
      "metadata": {
        "id": "jInFNuit8hf1"
      }
    },
    {
      "cell_type": "code",
      "source": [
        "# write your code here"
      ],
      "metadata": {
        "id": "erh9QZaerSHk"
      },
      "execution_count": null,
      "outputs": []
    },
    {
      "cell_type": "markdown",
      "source": [
        "# Set"
      ],
      "metadata": {
        "id": "l4hLvwD2BeIN"
      }
    },
    {
      "cell_type": "markdown",
      "source": [
        "###`Q1:` Write a program to find set of common elements in three lists using sets.\n",
        "```\n",
        "Input : ar1 = [1, 5, 10, 20, 40, 80]\n",
        "        ar2 = [6, 7, 20, 80, 100]\n",
        "        ar3 = [3, 4, 15, 20, 30, 70, 80, 120]\n",
        "\n",
        "Output : [80, 20]\n",
        "```"
      ],
      "metadata": {
        "id": "zCX0Sk2IBfu8"
      }
    },
    {
      "cell_type": "code",
      "source": [
        "# write your code here\n",
        "ar1 = set([1, 5, 10, 20, 40, 80])\n",
        "ar2 = set([6, 7, 20, 80, 100])\n",
        "ar3 = set([3, 4, 15, 20, 30, 70, 80, 120])\n",
        "ar4 = ar1.intersection(ar2)\n",
        "ar4 =list(ar4.intersection(ar3))\n",
        "print(ar4)"
      ],
      "metadata": {
        "id": "rqATYpBUrUQU",
        "outputId": "33d80f47-edfb-4fab-fd9c-c52fbf3244e9",
        "colab": {
          "base_uri": "https://localhost:8080/"
        }
      },
      "execution_count": null,
      "outputs": [
        {
          "output_type": "stream",
          "name": "stdout",
          "text": [
            "[80, 20]\n"
          ]
        }
      ]
    },
    {
      "cell_type": "markdown",
      "source": [
        "###`Q2:` Write a program to count unique number of vowels using sets in a given string. Lowercase and upercase vowels will be taken as different.\n",
        "\n",
        "`Input:`\n",
        "```\n",
        "Str1 = \"hands-on data science mentorship progrAm with live classes at affordable fee only on CampusX\"\n",
        "```\n",
        "`Output:`\n",
        "```\n",
        "No of unique vowels-6\n",
        "```"
      ],
      "metadata": {
        "id": "0gOVS-0yCYrK"
      }
    },
    {
      "cell_type": "code",
      "source": [
        "# write your code here\n",
        "vowels=['a','e','i','o','u','A','E','I','O','U']\n",
        "Str1 = \"hands-on data science mentorship progrAm with live classes at affordable fee only on CampusX\"\n",
        "count = 0\n",
        "v=[]\n",
        "for i in Str1:\n",
        "  if i in vowels:\n",
        "    v.append(i)\n",
        "s=set(v)\n",
        "print('No.of Unique vowels-',len(s))\n"
      ],
      "metadata": {
        "id": "0vAlEAOzDihm",
        "outputId": "0e8b0253-d9eb-4a9d-a383-df0f4869d500",
        "colab": {
          "base_uri": "https://localhost:8080/"
        }
      },
      "execution_count": null,
      "outputs": [
        {
          "output_type": "stream",
          "name": "stdout",
          "text": [
            "No.of Unique vowels- 6\n"
          ]
        }
      ]
    },
    {
      "cell_type": "markdown",
      "source": [
        "### `Q3:` Write a program to Check if a given string is binary string of or not.\n",
        "\n",
        "A string is said to be binary if it's consists of only two unique characters.\n",
        "\n",
        "Take string input from user.\n",
        "\n",
        "```\n",
        "Input: str = \"01010101010\"\n",
        "Output: Yes\n",
        "\n",
        "Input: str = \"1222211\"\n",
        "Output: Yes\n",
        "\n",
        "Input: str = \"Campusx\"\n",
        "Output: No\n",
        "```"
      ],
      "metadata": {
        "id": "fqLZxiarEne5"
      }
    },
    {
      "cell_type": "code",
      "source": [
        "# write your code here\n",
        "inp = input('enter the string')\n",
        "\n",
        "s = [i for i in inp]\n",
        "s=set(s)\n",
        "print(s)\n",
        "if len(s)==2:\n",
        "  print('Binary')\n",
        "else:\n",
        "  print('Not binary')\n"
      ],
      "metadata": {
        "id": "5M5v8LoYrXkE",
        "outputId": "e05fd6f4-159e-4cac-dfc5-3fd39264fb96",
        "colab": {
          "base_uri": "https://localhost:8080/"
        }
      },
      "execution_count": null,
      "outputs": [
        {
          "output_type": "stream",
          "name": "stdout",
          "text": [
            "enter the stringCampusX\n",
            "{'a', 'u', 'X', 'C', 'm', 'p', 's'}\n",
            "Not binary\n"
          ]
        }
      ]
    },
    {
      "cell_type": "markdown",
      "source": [
        "### `Q4`: find union of n arrays.\n",
        "\n",
        "**Example 1:**\n",
        "\n",
        "Input:\n",
        "```bash\n",
        "[[1, 2, 2, 4, 3, 6],\n",
        " [5, 1, 3, 4],\n",
        " [9, 5, 7, 1],\n",
        " [2, 4, 1, 3]]\n",
        "```\n",
        "\n",
        "Output:\n",
        "\n",
        "```bash\n",
        "[1, 2, 3, 4, 5, 6, 7, 9]\n",
        "```"
      ],
      "metadata": {
        "id": "xXS8wYH1mDqx"
      }
    },
    {
      "cell_type": "code",
      "source": [
        "# write your code here\n",
        "ar = [[1, 2, 2, 4, 3, 6],\n",
        " [5, 1, 3, 4],\n",
        " [9, 5, 7, 1],\n",
        " [2, 4, 1, 3]]\n",
        "s1=set()\n",
        "for i in ar:\n",
        "  s=set(i)\n",
        "  s1.update(s)\n",
        "print(list(s1))"
      ],
      "metadata": {
        "id": "FVNyK6MbncU8",
        "outputId": "ac49a48f-11d7-4713-b2fb-31d9ce9bdd9e",
        "colab": {
          "base_uri": "https://localhost:8080/"
        }
      },
      "execution_count": null,
      "outputs": [
        {
          "output_type": "stream",
          "name": "stdout",
          "text": [
            "[1, 2, 3, 4, 5, 6, 7, 9]\n"
          ]
        }
      ]
    },
    {
      "cell_type": "markdown",
      "source": [
        "### `Q5`: Intersection of two lists. Intersection of two list means we need to take all those elements which are common to both of the initial lists and store them into another list. Only use using **list-comprehension**.\n",
        "\n",
        "**Example 1:**\n",
        "\n",
        "Input:\n",
        "```bash\n",
        "lst1 = {15, 9, 10, 56, 23, 78, 5, 4, 9}\n",
        "lst2 = {9, 4, 5, 36, 47, 26, 10, 45, 87}\n",
        "```\n",
        "\n",
        "Output:\n",
        "```bash\n",
        "[9, 10, 4, 5]\n",
        "```\n",
        "\n",
        "**Example 2:**\n",
        "\n",
        "Input:\n",
        "```bash\n",
        "lst1 = {4, 9, 1, 17, 11, 26, 28, 54, 69}\n",
        "lst2 = {9, 9, 74, 21, 45, 11, 63, 28, 26}\n",
        "```\n",
        "\n",
        "Output:\n",
        "```bash\n",
        "[9, 11, 26, 28]\n",
        "```"
      ],
      "metadata": {
        "id": "T_Re21BdndOz"
      }
    },
    {
      "cell_type": "code",
      "source": [
        "# write your code here\n",
        "lst1 = {15, 9, 10, 56, 23, 78, 5, 4, 9}\n",
        "lst2 = {9, 4, 5, 36, 47, 26, 10, 45, 87}\n",
        "[i for i in lst1 if i in lst2]"
      ],
      "metadata": {
        "id": "nWnL25ftoLVT",
        "outputId": "f044ae82-8f0d-4637-f448-a4aa8e2cdb85",
        "colab": {
          "base_uri": "https://localhost:8080/"
        }
      },
      "execution_count": null,
      "outputs": [
        {
          "output_type": "execute_result",
          "data": {
            "text/plain": [
              "[4, 5, 9, 10]"
            ]
          },
          "metadata": {},
          "execution_count": 118
        }
      ]
    },
    {
      "cell_type": "markdown",
      "source": [
        "# Dictionary"
      ],
      "metadata": {
        "id": "tD2RSYn1a8oA"
      }
    },
    {
      "cell_type": "markdown",
      "source": [
        "### `Q1`: Key with maximum unique values\n",
        "\n",
        "Given a dictionary with values list, extract key whose value has most unique values.\n",
        "\n",
        "**Example 1:**\n",
        "\n",
        "Input:\n",
        "\n",
        "```bash\n",
        "test_dict = {\"CampusX\" : [5, 7, 9, 4, 0], \"is\" : [6, 7, 4, 3, 3], \"Best\" : [9, 9, 6, 5, 5]}\n",
        "```\n",
        "\n",
        "Output:\n",
        "```bash\n",
        "CampusX\n",
        "```\n",
        "\n",
        "**Example 2:**\n",
        "\n",
        "Input:\n",
        "```bash\n",
        "test_dict = {\"CampusX\" : [5, 7, 7, 7, 7], \"is\" : [6, 7, 7, 7], \"Best\" : [9, 9, 6, 5, 5]}\n",
        "```\n",
        "\n",
        "Output:\n",
        "```bash\n",
        "Best\n",
        "```"
      ],
      "metadata": {
        "id": "7tUjHhcPbQzQ"
      }
    },
    {
      "cell_type": "code",
      "source": [
        "# write your code here\n",
        "test_dict = {\"CampusX\" : [5, 7, 9, 4, 0], \"is\" : [6, 7, 4, 3, 3], \"Best\" : [9, 9, 6, 5, 5]}\n",
        "dic1 = {i:len(set(test_dict[i])) for i in test_dict}\n",
        "for i in dic1:\n",
        "  if dic1[i] == max(dic1.values()):\n",
        "    print(i)"
      ],
      "metadata": {
        "id": "N8KHX863lNxL",
        "outputId": "86022428-08cc-42d7-948c-4374c463f360",
        "colab": {
          "base_uri": "https://localhost:8080/"
        }
      },
      "execution_count": null,
      "outputs": [
        {
          "output_type": "stream",
          "name": "stdout",
          "text": [
            "CampusX\n"
          ]
        }
      ]
    },
    {
      "cell_type": "markdown",
      "source": [
        "### `Q2`: Replace words from Dictionary. Given String, replace it’s words from lookup dictionary.\n",
        "\n",
        "**Example 1:**\n",
        "\n",
        "Input:\n",
        "\n",
        "```bash\n",
        "test_str = 'CampusX best for DS students.'\n",
        "repl_dict = {\"best\" : \"is the best channel\", \"DS\" : \"Data-Science\"}\n",
        "```\n",
        "\n",
        "Output:\n",
        "\n",
        "```bash\n",
        "CampusX is the best channel for Data-Science students.\n",
        "```\n",
        "\n",
        "**Example 2:**\n",
        "\n",
        "Input:\n",
        "```bash\n",
        "test_str = 'CampusX best for DS students.'\n",
        "repl_dict = {\"good\" : \"is the best channel\", \"ds\" : \"Data-Science\"}\n",
        "```\n",
        "\n",
        "Output:\n",
        "```bash\n",
        "CampusX best for DS students.\n",
        "```"
      ],
      "metadata": {
        "id": "_S5X6C84dWdJ"
      }
    },
    {
      "cell_type": "code",
      "source": [
        "# write your code here\n",
        "test_str = 'CampusX best for DS students.'\n",
        "repl_dict = {\"best\" : \"is the best channel\", \"DS\" : \"Data-Science\"}\n",
        "words=''\n",
        "for word in test_str.split():\n",
        "  if word in repl_dict.keys():\n",
        "    words = words+' ' + repl_dict[word]\n",
        "  else:\n",
        "    words=words+' ' + word\n",
        "print(words)"
      ],
      "metadata": {
        "id": "BTAQ8qnrlOxr",
        "outputId": "53647950-b37d-4247-88bb-59ac4cf91f3a",
        "colab": {
          "base_uri": "https://localhost:8080/"
        }
      },
      "execution_count": null,
      "outputs": [
        {
          "output_type": "stream",
          "name": "stdout",
          "text": [
            " CampusX is the best channel for Data-Science students.\n"
          ]
        }
      ]
    },
    {
      "cell_type": "markdown",
      "source": [
        "### `Q3`: Convert List to List of dictionaries. Given list values and keys list, convert these values to key value pairs in form of list of dictionaries.\n",
        "\n",
        "**Example 1:**\n",
        "\n",
        "Input:\n",
        "```bash\n",
        "test_list = [\"DataScience\", 3, \"is\", 8]\n",
        "key_list = [\"name\", \"id\"]\n",
        "```\n",
        "\n",
        "Output:\n",
        "\n",
        "```bash\n",
        "[{'name': 'DataScience', 'id': 3}, {'name': 'is', 'id': 8}]\n",
        "```\n",
        "\n",
        "**Example 2:**\n",
        "\n",
        "Input:\n",
        "```bash\n",
        "test_list = [\"CampusX\", 10]\n",
        "key_list = [\"name\", \"id\"]\n",
        "```\n",
        "\n",
        "Output:\n",
        "\n",
        "```bash\n",
        "[{'name': 'CampusX', 'id': 10}]\n",
        "```"
      ],
      "metadata": {
        "id": "55xgap3zfbcR"
      }
    },
    {
      "cell_type": "code",
      "source": [
        "# write your code here\n",
        "test_list = [\"DataScience\", 3, \"is\", 8]\n",
        "key_list = [\"name\", \"id\"]\n",
        "a=[]\n",
        "out=[]\n",
        "for i in range(1,len(test_list)):\n",
        "  a.extend([test_list[i-1],test_list[i]])\n",
        "  out.append(dict(zip(key_list,a)))\n",
        "\n",
        "print(out)\n",
        "\n",
        "\n"
      ],
      "metadata": {
        "id": "jbCajI87lQFr",
        "outputId": "f409766a-3562-40ba-b1e2-fcef0b492e7c",
        "colab": {
          "base_uri": "https://localhost:8080/"
        }
      },
      "execution_count": null,
      "outputs": [
        {
          "output_type": "stream",
          "name": "stdout",
          "text": [
            "[{'name': 'DataScience', 'id': 3}, {'name': 'DataScience', 'id': 3}, {'name': 'DataScience', 'id': 3}]\n"
          ]
        }
      ]
    },
    {
      "cell_type": "code",
      "source": [
        "type('Data')"
      ],
      "metadata": {
        "id": "54-KaPHFCNuQ",
        "outputId": "8165aacf-8fca-4e34-81c9-31c6994a7048",
        "colab": {
          "base_uri": "https://localhost:8080/"
        }
      },
      "execution_count": null,
      "outputs": [
        {
          "output_type": "execute_result",
          "data": {
            "text/plain": [
              "str"
            ]
          },
          "metadata": {},
          "execution_count": 42
        }
      ]
    },
    {
      "cell_type": "markdown",
      "source": [
        "### `Q4`: Convert a list of Tuples into Dictionary.\n",
        "\n",
        "**Example 1:**\n",
        "\n",
        "Input:\n",
        "```bash\n",
        "[(\"akash\", 10), (\"gaurav\", 12), (\"anand\", 14), (\"suraj\", 20), (\"akhil\", 25), (\"ashish\", 30)]\n",
        "```\n",
        "\n",
        "Output:\n",
        "```bash\n",
        "{'akash': [10], 'gaurav': [12], 'anand': [14], 'suraj': [20], 'akhil': [25], 'ashish': [30]}\n",
        "```\n",
        "\n",
        "**Example 2:**\n",
        "\n",
        "Input:\n",
        "```bash\n",
        "[('A', 1), ('B', 2), ('C', 3)]\n",
        "```\n",
        "\n",
        "Output:\n",
        "```bash\n",
        "{'A': [1], 'B': [2], 'C': [3]}\n",
        "```"
      ],
      "metadata": {
        "id": "5RxBlLQahLkB"
      }
    },
    {
      "cell_type": "code",
      "source": [
        "# write your code here\n",
        "inp = [(\"akash\", 10), (\"gaurav\", 12), (\"anand\", 14), (\"suraj\", 20), (\"akhil\", 25), (\"ashish\", 30)]\n",
        "a = [inp[i][1] for i in range(len(inp))]\n",
        "key = [inp[i][0] for i in range(len(inp))]\n",
        "value = list([i] for i in a)\n",
        "dict(zip(key,value))"
      ],
      "metadata": {
        "id": "f1yz7inMlQ5N",
        "outputId": "9717c03f-8b9d-496c-d7b2-941b1e7ea535",
        "colab": {
          "base_uri": "https://localhost:8080/"
        }
      },
      "execution_count": null,
      "outputs": [
        {
          "output_type": "execute_result",
          "data": {
            "text/plain": [
              "{'akash': [10],\n",
              " 'gaurav': [12],\n",
              " 'anand': [14],\n",
              " 'suraj': [20],\n",
              " 'akhil': [25],\n",
              " 'ashish': [30]}"
            ]
          },
          "metadata": {},
          "execution_count": 40
        }
      ]
    },
    {
      "cell_type": "markdown",
      "source": [
        "### `Q5`: Sort Dictionary key and values List.\n",
        "\n",
        "**Example 1:**\n",
        "\n",
        "Input:\n",
        "\n",
        "```bash\n",
        "{'c': [3], 'b': [12, 10], 'a': [19, 4]}\n",
        "```\n",
        "\n",
        "Output:\n",
        "\n",
        "```bash\n",
        "{'a': [4, 19], 'b': [10, 12], 'c': [3]}\n",
        "```\n",
        "\n",
        "**Example 2:**\n",
        "\n",
        "Input:\n",
        "\n",
        "```bash\n",
        "{'c': [10, 34, 3]}\n",
        "```\n",
        "\n",
        "Output:\n",
        "\n",
        "```bash\n",
        "{'c': [3, 10, 34]}\n",
        "```"
      ],
      "metadata": {
        "id": "Fz8EzJD-kBkS"
      }
    },
    {
      "cell_type": "code",
      "source": [
        "# write your code here\n",
        "dic1 = {'c': [3], 'b': [12, 10], 'a': [19, 4]}\n",
        "dic2 = sorted(dic1)\n",
        "{i:sorted(dic1[i]) for i in dic2 }\n",
        "\n"
      ],
      "metadata": {
        "id": "x9UmJ4EQk7Pp",
        "outputId": "8af12e5b-4e9f-4cee-8991-7791c1b26fcc",
        "colab": {
          "base_uri": "https://localhost:8080/"
        }
      },
      "execution_count": null,
      "outputs": [
        {
          "output_type": "execute_result",
          "data": {
            "text/plain": [
              "{'a': [4, 19], 'b': [10, 12], 'c': [3]}"
            ]
          },
          "metadata": {},
          "execution_count": 25
        }
      ]
    }
  ]
}