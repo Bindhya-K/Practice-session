{
  "nbformat": 4,
  "nbformat_minor": 0,
  "metadata": {
    "colab": {
      "provenance": [],
      "include_colab_link": true
    },
    "kernelspec": {
      "name": "python3",
      "display_name": "Python 3"
    },
    "language_info": {
      "name": "python"
    }
  },
  "cells": [
    {
      "cell_type": "markdown",
      "metadata": {
        "id": "view-in-github",
        "colab_type": "text"
      },
      "source": [
        "<a href=\"https://colab.research.google.com/github/Bindhya-K/Practice-session/blob/main/OOP1.ipynb\" target=\"_parent\"><img src=\"https://colab.research.google.com/assets/colab-badge.svg\" alt=\"Open In Colab\"/></a>"
      ]
    },
    {
      "cell_type": "markdown",
      "source": [
        "##`Q-1:` Rectangle Class\n",
        "1. Write a Rectangle class in Python language, allowing you to build a rectangle with length and width attributes.\n",
        "\n",
        "2. Create a Perimeter() method to calculate the perimeter of the rectangle and a Area() method to calculate the area of ​​the rectangle.\n",
        "\n",
        "3. Create a method display() that display the length, width, perimeter and area of an object created using an instantiation on rectangle class."
      ],
      "metadata": {
        "id": "FyUJ3PRAsPr4"
      }
    },
    {
      "cell_type": "markdown",
      "source": [
        "Eg.\n",
        "After making above classes and methods, on executing below code:-\n",
        "```\n",
        "my_rectangle = Rectangle(3 , 4)\n",
        "my_rectangle.display()\n",
        "```\n",
        "\n",
        "`Output:`\n",
        "```\n",
        "The length of rectangle is:  3\n",
        "The width of rectangle is:  4\n",
        "The perimeter of rectangle is:  14\n",
        "The area of rectangle is:  12\n",
        "```\n"
      ],
      "metadata": {
        "id": "GxUtOqJfssFK"
      }
    },
    {
      "cell_type": "code",
      "source": [
        "# write your code here\n",
        "class Rectange:\n",
        "  def __init__(self,x,y):\n",
        "    self.length = x\n",
        "    self.breadth = y\n",
        "    self.perimeter=0\n",
        "    self.area=0\n",
        "  def peri(self):\n",
        "    self.perimeter = 2*(self.length+self.breadth)\n",
        "    print('The perimeter of the rectangle is:',self.perimeter)\n",
        "  def ar(self):\n",
        "    self.area = self.length*self.breadth\n",
        "    print('the area of the rectangle :',self.area)\n",
        "  def display(self):\n",
        "    print('The length of the rectangle is :',self.length)\n",
        "    print('The breadth of the rectangle is:',self.breadth)\n",
        "    self.peri()\n",
        "    self.ar()\n",
        "\n",
        "\n"
      ],
      "metadata": {
        "id": "92_QT-Uj6NBg"
      },
      "execution_count": 4,
      "outputs": []
    },
    {
      "cell_type": "code",
      "source": [
        "my_rectangle=Rectange(3,4)"
      ],
      "metadata": {
        "id": "9_ghWcMQQPhZ"
      },
      "execution_count": 5,
      "outputs": []
    },
    {
      "cell_type": "code",
      "source": [
        "my_rectangle.display()"
      ],
      "metadata": {
        "id": "Gg8sN6HKQYnb",
        "outputId": "cd410ff6-f08b-4041-b092-a669ae07b4be",
        "colab": {
          "base_uri": "https://localhost:8080/"
        }
      },
      "execution_count": 6,
      "outputs": [
        {
          "output_type": "stream",
          "name": "stdout",
          "text": [
            "The length of the rectangle is : 3\n",
            "The breadth of the rectangle is: 4\n",
            "The perimeter of the rectangle is: 14\n",
            "the area of the rectangle : 12\n"
          ]
        }
      ]
    },
    {
      "cell_type": "markdown",
      "source": [
        "##`Q-2: Bank Class`\n",
        "\n",
        "1. Create a Python class called `BankAccount` which represents a bank account, having as attributes: `accountNumber` (numeric type), `name` (name of the account owner as string type), `balance`.\n",
        "2. Create a constructor with parameters: `accountNumber, name, balance`.\n",
        "3. Create a `Deposit()` method which manages the deposit actions.\n",
        "4. Create a `Withdrawal()` method  which manages withdrawals actions.\n",
        "5. Create an `bankFees()` method to apply the bank fees with a percentage of 5% of the balance account.\n",
        "6. Create a `display()` method to display account details.\n",
        "Give the complete code for the  BankAccount class."
      ],
      "metadata": {
        "id": "r_GxrS0Vrdom"
      }
    },
    {
      "cell_type": "markdown",
      "source": [
        "Eg.\n",
        "After making above classes and methods, on executing below code:-\n",
        "```\n",
        "newAccount = BankAccount(2178514584, \"Mandy\" , 2800)\n",
        "\n",
        "newAccount.Withdrawal(700)\n",
        "\n",
        "newAccount.Deposit(1000)\n",
        "\n",
        "newAccount.display()\n",
        "```\n",
        "\n",
        "`Output:`\n",
        "```\n",
        "Account Number :  2178514584\n",
        "Account Name :  Mandy\n",
        "Account Balance :  3100 ₹\n",
        "```"
      ],
      "metadata": {
        "id": "qvVkOUJgvTV_"
      }
    },
    {
      "cell_type": "code",
      "source": [
        "newAccount = BankAccount(2178514584, \"Mandy\" , 2800)"
      ],
      "metadata": {
        "id": "1UlKYpDl0UzY",
        "outputId": "4414302a-9606-446b-c1ae-4d39b0e985f2",
        "colab": {
          "base_uri": "https://localhost:8080/"
        }
      },
      "execution_count": 9,
      "outputs": [
        {
          "output_type": "stream",
          "name": "stdout",
          "text": [
            "Enter you choice\n",
            "                  1.Deposit the amount\n",
            "                  2.Withdrawal\n",
            "                  3.display\n",
            "                  4. exit1\n",
            "enter the amount1000\n",
            "deposit of 1000 is scuessful\n",
            "New Balance is 3800\n",
            "Enter you choice\n",
            "                  1.Deposit the amount\n",
            "                  2.Withdrawal\n",
            "                  3.display\n",
            "                  4. exit2\n",
            "enter the amount to withdraw700\n",
            "withdrawal of 700 is sucessful\n",
            "New Balance us 3100\n",
            "Enter you choice\n",
            "                  1.Deposit the amount\n",
            "                  2.Withdrawal\n",
            "                  3.display\n",
            "                  4. exit3\n",
            "Account Number: 2178514584\n",
            "Account Name: Mandy\n",
            "Account Balance: 3100\n",
            "Enter you choice\n",
            "                  1.Deposit the amount\n",
            "                  2.Withdrawal\n",
            "                  3.display\n",
            "                  4. exit4\n",
            "Thank you\n"
          ]
        }
      ]
    },
    {
      "cell_type": "code",
      "source": [
        "# write your code here\n",
        "class BankAccount:\n",
        "  def __init__(self,x,y,z):\n",
        "    self.account = x\n",
        "    self.name = y\n",
        "    self.balance = z\n",
        "    self.menu()\n",
        "  def menu(self):\n",
        "    inp = input('''Enter you choice\n",
        "                  1.Deposit the amount\n",
        "                  2.Withdrawal\n",
        "                  3.display\n",
        "                  4. exit'''\n",
        "                  )\n",
        "    if inp=='1':\n",
        "      dep = int(input('enter the amount'))\n",
        "      self.deposit(dep)\n",
        "    elif inp=='2':\n",
        "      b = int(input('enter the amount to withdraw'))\n",
        "      self.withdrawal(b)\n",
        "    elif inp=='3':\n",
        "      self.display()\n",
        "    else:\n",
        "      print('Thank you')\n",
        "  def deposit(self,dep):\n",
        "    self.balance +=dep\n",
        "    print('deposit of {} is scuessful'.format(dep))\n",
        "    print('New Balance is {}'.format(self.balance))\n",
        "    self.menu()\n",
        "  def withdrawal(self,b):\n",
        "    if b<=self.balance:\n",
        "      self.balance-=b\n",
        "      print('withdrawal of {} is sucessful'.format(b))\n",
        "      print('New Balance us',self.balance)\n",
        "    else:\n",
        "      print('not sufficeient balance')\n",
        "    self.menu()\n",
        "  def BankFees(self):\n",
        "    fees = 0.05*self.balance\n",
        "    self.balance-=fees\n",
        "    print('An amount of {} bank fees is deducted from your account'.format(fees))\n",
        "    self.menu()\n",
        "  def display(self):\n",
        "    print('Account Number:',self.account)\n",
        "    print('Account Name:',self.name)\n",
        "    print('Account Balance:',self.balance)\n",
        "    self.menu()\n",
        "\n"
      ],
      "metadata": {
        "id": "fUQOmQyA6YDR"
      },
      "execution_count": 8,
      "outputs": []
    },
    {
      "cell_type": "code",
      "source": [],
      "metadata": {
        "id": "Tl51m6Bt0Ryd"
      },
      "execution_count": null,
      "outputs": []
    },
    {
      "cell_type": "markdown",
      "source": [
        "##`Q-3:Computation class`\n",
        "\n",
        "1. Create a `Computation` class with a default constructor (without parameters) allowing to perform various calculations on integers numbers.\n",
        "2. Create a method called `Factorial()` which allows to calculate the factorial of an integer n. Integer n as parameter for this method\n",
        "\n",
        "3. Create a method called `naturalSum()` allowing to calculate the sum of the first n integers 1 + 2 + 3 + .. + n. Integer n as parameter for this method.\n",
        "\n",
        "4. Create a method called `testPrime()` in  the Calculation class to test the primality of a given integer n, n is Prime or Not? Integer n as parameter for this method.\n",
        "\n",
        "5. Create  a method called `testPrims()` allowing to test if two numbers are prime between them. Two integers are prime to one another if they have only `1` as their common divisor. Eg. 4 and 9 are prime to each other.\n",
        "\n",
        "5. Create a `tableMult()` method which creates and displays the multiplication table of a given integer. Then create an `allTablesMult()` method to display all the integer multiplication tables 1, 2, 3, ..., 9.\n",
        "\n",
        "6. Create a static `listDiv()` method that gets all the divisors of a given integer on new list called  Ldiv. Create another `listDivPrim()` method that gets all the prime divisors of a given integer."
      ],
      "metadata": {
        "id": "QovcQAZTrgGU"
      }
    },
    {
      "cell_type": "code",
      "source": [
        "obj = Computation()"
      ],
      "metadata": {
        "id": "PX_4SW_4-fHC",
        "outputId": "e6327d55-86ce-4f8f-c6a8-7893690ee5c5",
        "colab": {
          "base_uri": "https://localhost:8080/"
        }
      },
      "execution_count": 31,
      "outputs": [
        {
          "output_type": "stream",
          "name": "stdout",
          "text": [
            "enter your choice\n",
            "    1. Factorial\n",
            "    2.Sum of series upto n\n",
            "    3.Test for Prime\n",
            "    4.Mutiplication table\n",
            "    5.Divisors\n",
            "    6.exit1\n",
            "enter the number5\n",
            "The Factorial of the number is 120\n",
            "enter your choice\n",
            "    1. Factorial\n",
            "    2.Sum of series upto n\n",
            "    3.Test for Prime\n",
            "    4.Mutiplication table\n",
            "    5.Divisors\n",
            "    6.exit2\n",
            "enter the number5\n",
            "The sum of series is 15\n",
            "enter your choice\n",
            "    1. Factorial\n",
            "    2.Sum of series upto n\n",
            "    3.Test for Prime\n",
            "    4.Mutiplication table\n",
            "    5.Divisors\n",
            "    6.exit3\n",
            "enter the number5\n",
            "The given number 5 is prime\n",
            "enter your choice\n",
            "    1. Factorial\n",
            "    2.Sum of series upto n\n",
            "    3.Test for Prime\n",
            "    4.Mutiplication table\n",
            "    5.Divisors\n",
            "    6.exit5\n",
            "enter the number6\n",
            "The divisors of the number: [1, 2, 3, 6]\n",
            "The prime divisors: [3]\n",
            "enter your choice\n",
            "    1. Factorial\n",
            "    2.Sum of series upto n\n",
            "    3.Test for Prime\n",
            "    4.Mutiplication table\n",
            "    5.Divisors\n",
            "    6.exit4\n",
            "enter the number5\n",
            "1*5=5\n",
            "2*5=10\n",
            "3*5=15\n",
            "4*5=20\n",
            "5*5=25\n",
            "6*5=30\n",
            "7*5=35\n",
            "8*5=40\n",
            "9*5=45\n",
            "10*5=50\n",
            "enter your choice\n",
            "    1. Factorial\n",
            "    2.Sum of series upto n\n",
            "    3.Test for Prime\n",
            "    4.Mutiplication table\n",
            "    5.Divisors\n",
            "    6.exit6\n",
            "Thank you\n"
          ]
        }
      ]
    },
    {
      "cell_type": "code",
      "source": [],
      "metadata": {
        "id": "xH5NcaO7-iup"
      },
      "execution_count": null,
      "outputs": []
    },
    {
      "cell_type": "code",
      "source": [
        "# write your code here\n",
        "class Computation:\n",
        "  def __init__(self):\n",
        "    self.number = 0\n",
        "    self.result=1\n",
        "    self.menu()\n",
        "  def menu(self):\n",
        "    inp = input('''enter your choice\n",
        "    1. Factorial\n",
        "    2.Sum of series upto n\n",
        "    3.Test for Prime\n",
        "    4.Mutiplication table\n",
        "    5.Divisors\n",
        "    6.exit''')\n",
        "    if inp=='1':\n",
        "      n = int(input('enter the number'))\n",
        "      self.Factorial(n)\n",
        "    elif inp=='2':\n",
        "      n = int(input('enter the number'))\n",
        "      self.naturalSum(n)\n",
        "    elif inp=='3':\n",
        "      n = int(input('enter the number'))\n",
        "      self.testPrime(n)\n",
        "    elif inp=='4':\n",
        "      n = int(input('enter the number'))\n",
        "      self.tableMult(n)\n",
        "    elif inp=='5':\n",
        "      n = int(input('enter the number'))\n",
        "      self.listDiv(n)\n",
        "    else:\n",
        "      print('Thank you')\n",
        "  def Factorial(self,n):\n",
        "    self.number = n\n",
        "    self.result=1\n",
        "\n",
        "    for i in range(1,self.number+1):\n",
        "      self.result*=i\n",
        "    print('The Factorial of the number is',self.result)\n",
        "    self.menu()\n",
        "  def naturalSum(self,n):\n",
        "    self.number = n\n",
        "    self.result=0\n",
        "    for i in range(1,self.number+1):\n",
        "      self.result+=i\n",
        "    print('The sum of series is',self.result)\n",
        "    self.menu()\n",
        "  def testPrime(self,n):\n",
        "    self.number=n\n",
        "    l1=[]\n",
        "    for i in range(2,self.number):\n",
        "      if self.number%i==0:\n",
        "        l1.append(i)\n",
        "    if len(l1)>0:\n",
        "      print('The given number {} is not prime'.format(self.number))\n",
        "    else:\n",
        "      print('The given number {} is prime'.format(self.number))\n",
        "    self.menu()\n",
        "  def tableMult(self,n):\n",
        "    self.number=n\n",
        "    [print('{}*{}={}'.format(i,self.number,i*self.number)) for i in range(1,11)]\n",
        "    self.menu()\n",
        "  def listDiv(self,n):\n",
        "    self.number=n\n",
        "    Ldiv=[1]\n",
        "    Pdiv=[]\n",
        "    for i in range(2,self.number+1):\n",
        "      if self.number%i==0:\n",
        "        Ldiv.append(i)\n",
        "        for j in range(2,i+1):\n",
        "          if i%j==0:\n",
        "            break\n",
        "          else:\n",
        "            Pdiv.append(i)\n",
        "    print('The divisors of the number:',Ldiv)\n",
        "    print('The prime divisors:',Pdiv)\n",
        "    self.menu()\n",
        "\n",
        "\n",
        "\n",
        "\n",
        "\n",
        "\n",
        "\n"
      ],
      "metadata": {
        "id": "YEkPH70l6Z-o"
      },
      "execution_count": 29,
      "outputs": []
    },
    {
      "cell_type": "code",
      "source": [
        "obj = Computation()\n"
      ],
      "metadata": {
        "id": "BATdyEgJ3uSI"
      },
      "execution_count": 14,
      "outputs": []
    },
    {
      "cell_type": "code",
      "source": [
        "obj.Factorial(5)"
      ],
      "metadata": {
        "id": "fgPTxQWn31XI",
        "outputId": "74a17873-fa16-4889-d3a5-78e41f430de6",
        "colab": {
          "base_uri": "https://localhost:8080/"
        }
      },
      "execution_count": 15,
      "outputs": [
        {
          "output_type": "stream",
          "name": "stdout",
          "text": [
            "The Factorial of the number is 120\n"
          ]
        }
      ]
    },
    {
      "cell_type": "markdown",
      "source": [
        "##`Q-4`: Build flashcard using class in Python.\n",
        "\n",
        "Build a flashcard using class in python. A flashcard is a card having information on both sides, which can be used as an aid in memoization. Flashcards usually have a question on one side and an answer on the other.\n",
        "\n",
        "**Example 1:**\n",
        "\n",
        "Approach:\n",
        "\n",
        "- Create a class named FlashCard.\n",
        "- Initialize dictionary fruits using __init__() method. Here you have to define fruit name as key and it's color as value. E.g., {\"Banana\": \"yellow\", \"Strawberries\": \"pink\"}\n",
        "- Now randomly choose a pair from fruits by using _random_ module and store the key in variable _fruit_ and _value_ in variable color.\n",
        "- Now prompt the user to answer the color of the randomly chosen fruit.\n",
        "- If correct print correct else print wrong.\n",
        "\n",
        "Output:\n",
        "```bash\n",
        "welcome to fruit quiz\n",
        "What is the color of Strawberries\n",
        "pink\n",
        "Correct answer\n",
        "Enter 0, if you want to play again: 0\n",
        "What is the color of watermelon\n",
        "green\n",
        "Correct answer\n",
        "Enter 0, if you want to play again: 1\n",
        "```"
      ],
      "metadata": {
        "id": "0yn23_oEriXa"
      }
    },
    {
      "cell_type": "code",
      "source": [
        "import random"
      ],
      "metadata": {
        "id": "rEgV3WmvEQxB"
      },
      "execution_count": 32,
      "outputs": []
    },
    {
      "cell_type": "code",
      "source": [
        "# write your code here\n",
        "\n",
        "class FlashCard:\n",
        "  def __init__(self):\n",
        "    self.d ={'Banana':'yellow',\n",
        "             'Strawberries': 'Pink',\n",
        "             'Orange':'Orange',\n",
        "             'Kiwi':'Green',\n",
        "             'Watermelon':'Green',\n",
        "             'Apple':'Red',\n",
        "             'Pineapple':'yellow',\n",
        "             'Mango':'Yellow',\n",
        "             'Grapes':'Purple'}\n",
        "    print('Welcome to fruit Quiz')\n",
        "    self.PickFlashCard()\n",
        "\n",
        "  def PickFlashCard(self):\n",
        "    l1 = list(self.d.items())\n",
        "    [fruit, value] = random.choice(l1)\n",
        "    inp = input('what is the color of {} fruit'.format(fruit))\n",
        "    if inp==value:\n",
        "      print(\"Correct Answer\")\n",
        "    else:\n",
        "      print('Wrong Answer')\n",
        "    inp1=input('Enter 0, if you want to play agaian')\n",
        "    if inp1=='0':\n",
        "      self.PickFlashCard()\n",
        "\n",
        "\n",
        "\n",
        ""
      ],
      "metadata": {
        "id": "vCrUF6VU6l6w"
      },
      "execution_count": 47,
      "outputs": []
    },
    {
      "cell_type": "code",
      "source": [
        "obj = FlashCard()"
      ],
      "metadata": {
        "id": "UM29ZftAFV5L",
        "outputId": "68ff4c4c-656f-43ad-c2db-2ae3172281e0",
        "colab": {
          "base_uri": "https://localhost:8080/"
        }
      },
      "execution_count": 49,
      "outputs": [
        {
          "name": "stdout",
          "output_type": "stream",
          "text": [
            "Welcome to fruit Quiz\n",
            "what is the color of Kiwi fruitGreen\n",
            "Correct Answer\n",
            "Enter 0, if you want to play agaian0\n",
            "what is the color of Mango fruitYellow\n",
            "Correct Answer\n",
            "Enter 0, if you want to play agaian1\n"
          ]
        }
      ]
    },
    {
      "cell_type": "code",
      "source": [
        "d = {'Banana':'yellow',\n",
        "             'Strawberries': 'Pink',\n",
        "             'Orange':'Orange',\n",
        "             'Kiwi':'Green',\n",
        "             'Watermelon':'Green',\n",
        "             'Apple':'Red',\n",
        "             'Pineapple':'yellow',\n",
        "             'Mango':'Yellow',\n",
        "             'Grapes':'[Purple,Green]'}\n",
        "l1 = d.items()\n",
        "print(list(l1))"
      ],
      "metadata": {
        "id": "xGsT7eglF81j",
        "outputId": "a20ab5d8-ef30-4678-e8ae-0a68e82d0cbe",
        "colab": {
          "base_uri": "https://localhost:8080/"
        }
      },
      "execution_count": 42,
      "outputs": [
        {
          "output_type": "stream",
          "name": "stdout",
          "text": [
            "[('Banana', 'yellow'), ('Strawberries', 'Pink'), ('Orange', 'Orange'), ('Kiwi', 'Green'), ('Watermelon', 'Green'), ('Apple', 'Red'), ('Pineapple', 'yellow'), ('Mango', 'Yellow'), ('Grapes', '[Purple,Green]')]\n"
          ]
        }
      ]
    },
    {
      "cell_type": "code",
      "source": [],
      "metadata": {
        "id": "FSC8LyCtFa6t"
      },
      "execution_count": null,
      "outputs": []
    },
    {
      "cell_type": "markdown",
      "source": [
        "## `Q-5:` Problem 5 based on OOP Python.\n",
        "\n",
        "TechWorld, a technology training center, wants to allocate courses for instructors. An instructor is identified by name, technology skills, experience and average feedback. An instructor is allocated a course, if he/she satisfies the below two conditions:\n",
        "- eligibility criteria:\n",
        "    - if experience is more than 3 years, average feedback should be 4.5 or more\n",
        "    - if experience is 3 years or less, average feedback should be 4 or more\n",
        "- he/she should posses the technology skill for the course\n",
        "\n",
        "Identify the class name and attributes to represent instructors. Write a Python program to implement the class chosen with its attributes and methods.\n",
        "\n",
        "**Note:**\n",
        "- Consider all instance variables to be private and methods to be public.\n",
        "- An instructor may have multiple technology skills, so consider instance variable, technology_skill to be a list.\n",
        "- *check_eligibility()*: Return true if eligibility criteria is satisfied by the instructor. Else, return false\n",
        "- *allocate_course(technology)*: Return true if the course which requires the given technology can be allocated to the instructor. Else, return false.\n",
        "\n",
        "Represent a few objects of the class, initialize instance variables using setter methods, invoke\n",
        "appropriate methods and test your program."
      ],
      "metadata": {
        "id": "GN2r0jbRewYr"
      }
    },
    {
      "cell_type": "code",
      "source": [],
      "metadata": {
        "id": "pdMFuVFnlvKL"
      },
      "execution_count": null,
      "outputs": []
    }
  ]
}