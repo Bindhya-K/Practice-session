{
  "nbformat": 4,
  "nbformat_minor": 0,
  "metadata": {
    "colab": {
      "provenance": [],
      "include_colab_link": true
    },
    "kernelspec": {
      "name": "python3",
      "display_name": "Python 3"
    },
    "language_info": {
      "name": "python"
    }
  },
  "cells": [
    {
      "cell_type": "markdown",
      "metadata": {
        "id": "view-in-github",
        "colab_type": "text"
      },
      "source": [
        "<a href=\"https://colab.research.google.com/github/Bindhya-K/Practice-session/blob/main/NumPy_1.ipynb\" target=\"_parent\"><img src=\"https://colab.research.google.com/assets/colab-badge.svg\" alt=\"Open In Colab\"/></a>"
      ]
    },
    {
      "cell_type": "markdown",
      "source": [
        "**Note: In Data Science googling is a very important skill. If you find some difficulties to solve the problem, google it and try to find some clues to solve.**"
      ],
      "metadata": {
        "id": "6WdKdPGx-tnY"
      }
    },
    {
      "cell_type": "code",
      "source": [
        "import numpy as np"
      ],
      "metadata": {
        "id": "-J4F1ysN4mLk"
      },
      "execution_count": 3,
      "outputs": []
    },
    {
      "cell_type": "markdown",
      "source": [
        "###`Q-1` Create a null vector of size 10 but the fifth value which is 1.\n",
        "\n"
      ],
      "metadata": {
        "id": "a_K8IH-C6HDK"
      }
    },
    {
      "cell_type": "code",
      "source": [
        "#Code here\n",
        "np.where(np.arange(10)==4,1,0)"
      ],
      "metadata": {
        "id": "sTF03KsZ6QUI",
        "outputId": "4d1b80e7-9db2-4b32-b703-50ace65aabae",
        "colab": {
          "base_uri": "https://localhost:8080/"
        }
      },
      "execution_count": 2,
      "outputs": [
        {
          "output_type": "execute_result",
          "data": {
            "text/plain": [
              "array([0, 0, 0, 0, 1, 0, 0, 0, 0, 0])"
            ]
          },
          "metadata": {},
          "execution_count": 2
        }
      ]
    },
    {
      "cell_type": "markdown",
      "source": [
        "###`Q-2` Ask user to input two numbers a, b. Write a program to generate a random array of shape (a, b) and print the array and avg of the array."
      ],
      "metadata": {
        "id": "TEiG25rS6S1i"
      }
    },
    {
      "cell_type": "code",
      "source": [
        "#Code here\n",
        "inp1 = int(input('enter first number'))\n",
        "inp2 = int(input('enter second number'))\n",
        "x = np.random.random((inp1,inp2))\n",
        "print(x)\n",
        "print('average of the array:',np.mean(x))\n"
      ],
      "metadata": {
        "id": "ihwn4oOH6Vh7",
        "outputId": "c66ca568-909a-49e4-a1ad-041647cc4b45",
        "colab": {
          "base_uri": "https://localhost:8080/"
        }
      },
      "execution_count": 5,
      "outputs": [
        {
          "output_type": "stream",
          "name": "stdout",
          "text": [
            "enter first number2\n",
            "enter second number3\n",
            "[[0.31873067 0.40875668 0.13551776]\n",
            " [0.26329728 0.17668634 0.83627079]]\n",
            "average of the array: 0.35654325299375894\n"
          ]
        }
      ]
    },
    {
      "cell_type": "markdown",
      "source": [
        "###`Q-3`Write a function to create a 2d array with 1 on the border and 0 inside. Take 2-D array shape as (a,b) as parameter to function.\n",
        "\n",
        "Eg.-\n",
        "```\n",
        "[[1,1,1,1],\n",
        "[1,0,0,1],\n",
        "[1,0,0,1],\n",
        "[1,1,1,1]]\n",
        "```"
      ],
      "metadata": {
        "id": "2iEeybS06ZSq"
      }
    },
    {
      "cell_type": "code",
      "source": [
        "#Code here\n",
        "def twodimarray(a,b):\n",
        "  x=np.ones((a,b),dtype=int)\n",
        "  x[1:a-1,1:b-1]=0\n",
        "  return x\n",
        "\n",
        "twodimarray(5,5)"
      ],
      "metadata": {
        "id": "gEKndkDU6ZSs",
        "outputId": "f8c18d9c-38c0-4d77-c01e-e2556262ee8b",
        "colab": {
          "base_uri": "https://localhost:8080/"
        }
      },
      "execution_count": 16,
      "outputs": [
        {
          "output_type": "execute_result",
          "data": {
            "text/plain": [
              "array([[1, 1, 1, 1, 1],\n",
              "       [1, 0, 0, 0, 1],\n",
              "       [1, 0, 0, 0, 1],\n",
              "       [1, 0, 0, 0, 1],\n",
              "       [1, 1, 1, 1, 1]])"
            ]
          },
          "metadata": {},
          "execution_count": 16
        }
      ]
    },
    {
      "cell_type": "markdown",
      "source": [
        "###`Q-4` Create a vector of size 10 with values ranging from 0 to 1, both excluded.\n"
      ],
      "metadata": {
        "id": "QRJicQ8j6ZlE"
      }
    },
    {
      "cell_type": "code",
      "source": [
        "#Code here\n",
        "x=np.linspace(0.1,1,10,endpoint=False)\n",
        "print(x)"
      ],
      "metadata": {
        "id": "eC4XLhDq6ZlF",
        "outputId": "8a1cd0ec-3b01-46a6-d6b6-31d7a3827a19",
        "colab": {
          "base_uri": "https://localhost:8080/"
        }
      },
      "execution_count": 19,
      "outputs": [
        {
          "output_type": "stream",
          "name": "stdout",
          "text": [
            "[0.1  0.19 0.28 0.37 0.46 0.55 0.64 0.73 0.82 0.91]\n"
          ]
        }
      ]
    },
    {
      "cell_type": "markdown",
      "source": [
        "###`Q-5` Can you create a identity mattrix of shape (3,4). If yes write code for it."
      ],
      "metadata": {
        "id": "vb4jK4yQ6Zs2"
      }
    },
    {
      "cell_type": "code",
      "source": [
        "#Code here\n",
        "No\n",
        "\n"
      ],
      "metadata": {
        "id": "DTV_AbMS6Zs4"
      },
      "execution_count": 25,
      "outputs": []
    },
    {
      "cell_type": "markdown",
      "source": [
        "###`Q-6:` Create a 5x5 matrix with row values ranging from 0 to 4."
      ],
      "metadata": {
        "id": "QtjAFm5PEntK"
      }
    },
    {
      "cell_type": "code",
      "source": [
        "np.linspace(0,4,25).reshape(5,5)"
      ],
      "metadata": {
        "id": "z2WGxRjvEuRS",
        "outputId": "48a4c0e8-cc02-4781-99c3-4b22daf3cf48",
        "colab": {
          "base_uri": "https://localhost:8080/"
        }
      },
      "execution_count": 29,
      "outputs": [
        {
          "output_type": "execute_result",
          "data": {
            "text/plain": [
              "array([[0.        , 0.16666667, 0.33333333, 0.5       , 0.66666667],\n",
              "       [0.83333333, 1.        , 1.16666667, 1.33333333, 1.5       ],\n",
              "       [1.66666667, 1.83333333, 2.        , 2.16666667, 2.33333333],\n",
              "       [2.5       , 2.66666667, 2.83333333, 3.        , 3.16666667],\n",
              "       [3.33333333, 3.5       , 3.66666667, 3.83333333, 4.        ]])"
            ]
          },
          "metadata": {},
          "execution_count": 29
        }
      ]
    },
    {
      "cell_type": "markdown",
      "source": [
        "###`Q-7:`  Consider a random integer (in range 1 to 100) vector with shape `(10,2)` representing coordinates, and coordinates of a point as array is given. Create an array of distance of each point in the random vectros from the given point. Distance array should be interger type.\n",
        "\n",
        "```\n",
        "point = np.array([2,3])\n",
        "```\n"
      ],
      "metadata": {
        "id": "KPpvxKjVHnyx"
      }
    },
    {
      "cell_type": "code",
      "source": [
        "#code here\n",
        "x = np.random.random((10,2))\n",
        "x = np.round(x*100)\n",
        "print('Co-ordinates Array',x)\n",
        "point = np.array([2,3])\n",
        "dist = x-point\n",
        "print('Distance Array=',dist)"
      ],
      "metadata": {
        "id": "X7KGnWLNIM6f",
        "outputId": "53cdfbb4-2a94-4541-c873-d3d908778dfb",
        "colab": {
          "base_uri": "https://localhost:8080/"
        }
      },
      "execution_count": 33,
      "outputs": [
        {
          "output_type": "stream",
          "name": "stdout",
          "text": [
            "Co-ordinates Array [[17. 88.]\n",
            " [ 5. 81.]\n",
            " [11. 54.]\n",
            " [25. 19.]\n",
            " [72. 64.]\n",
            " [48. 56.]\n",
            " [72.  0.]\n",
            " [41. 22.]\n",
            " [59. 20.]\n",
            " [30. 73.]]\n",
            "Distance Array= [[15. 85.]\n",
            " [ 3. 78.]\n",
            " [ 9. 51.]\n",
            " [23. 16.]\n",
            " [70. 61.]\n",
            " [46. 53.]\n",
            " [70. -3.]\n",
            " [39. 19.]\n",
            " [57. 17.]\n",
            " [28. 70.]]\n"
          ]
        }
      ]
    },
    {
      "cell_type": "markdown",
      "source": [
        "###`Q-8:` Consider a (6,7,8) shape array, what is the index (x,y,z) of the 100th element?"
      ],
      "metadata": {
        "id": "tajOFJlCDwTr"
      }
    },
    {
      "cell_type": "code",
      "source": [
        "#Code here\n",
        "x = np.ones((6,7,8))\n",
        "np.unravel_index(100-1,x.shape)"
      ],
      "metadata": {
        "id": "qH4oxvs0D3Ra",
        "outputId": "7e8deb24-145c-41a4-c601-8de7fc4f7748",
        "colab": {
          "base_uri": "https://localhost:8080/"
        }
      },
      "execution_count": 39,
      "outputs": [
        {
          "output_type": "execute_result",
          "data": {
            "text/plain": [
              "(1, 5, 3)"
            ]
          },
          "metadata": {},
          "execution_count": 39
        }
      ]
    },
    {
      "cell_type": "markdown",
      "source": [
        "### `Q-9:` Arrays\n",
        "\n",
        "You are given a space separated list of numbers. Your task is to print a reversed NumPy array with the element type float.\n",
        "\n"
      ],
      "metadata": {
        "id": "9LxBAbT2Pw33"
      }
    },
    {
      "cell_type": "markdown",
      "source": [
        "**Input Format:**\n",
        "\n",
        "A single line of input containing space separated numbers.\n",
        "\n",
        "**Output Format:**\n",
        "\n",
        "Print the reverse NumPy array with type float.\n",
        "\n",
        "**Example 1:**\n",
        "\n",
        "Input:\n",
        "\n",
        "```bash\n",
        "1 2 3 4 -8 -10\n",
        "```\n",
        "\n",
        "Output:\n",
        "\n",
        "```bash\n",
        "[-10.  -8.   4.   3.   2.   1.]\n",
        "```"
      ],
      "metadata": {
        "id": "JJpqVms2Nq7L"
      }
    },
    {
      "cell_type": "code",
      "source": [
        "#Code here\n",
        "inp = '1 2 3 4 -8 -10'\n",
        "x = []\n",
        "for i in inp.split():\n",
        "  x.append(i)\n",
        "  y = np.array(x,dtype=float)\n",
        "print(np.flip(y))\n",
        ""
      ],
      "metadata": {
        "id": "7iQyg6ChNl3j",
        "outputId": "8ffa6eb6-4dc9-4bec-e337-a2ebb193034d",
        "colab": {
          "base_uri": "https://localhost:8080/"
        }
      },
      "execution_count": 44,
      "outputs": [
        {
          "output_type": "stream",
          "name": "stdout",
          "text": [
            "[-10.  -8.   4.   3.   2.   1.]\n"
          ]
        }
      ]
    },
    {
      "cell_type": "markdown",
      "source": [
        "### `Q-10:` Elements count\n",
        "\n",
        "Count the number of elements of a numpy array.\n",
        "\n"
      ],
      "metadata": {
        "id": "TPxD7jM8Sjz9"
      }
    },
    {
      "cell_type": "markdown",
      "source": [
        "**Example 1:**\n",
        "\n",
        "Input:\n",
        "```bash\n",
        "np.array([])\n",
        "```\n",
        "\n",
        "Output:\n",
        "```bash\n",
        "elements_count :  0\n",
        "```\n",
        "\n",
        "**Example 2:**\n",
        "\n",
        "Input:\n",
        "```bash\n",
        "np.array([1, 2])\n",
        "```\n",
        "\n",
        "Output:\n",
        "```bash\n",
        "elements_count :  2\n",
        "```"
      ],
      "metadata": {
        "id": "oHTiTz_jNkAU"
      }
    },
    {
      "cell_type": "code",
      "source": [
        "#Code here\n",
        "x = np.array([])\n",
        "count=0\n",
        "for i in x:\n",
        "  count+=1\n",
        "print(count)"
      ],
      "metadata": {
        "id": "RG0H2I-TNeGN",
        "outputId": "7e088f2d-b7ba-478e-915c-5042ffa73533",
        "colab": {
          "base_uri": "https://localhost:8080/"
        }
      },
      "execution_count": 46,
      "outputs": [
        {
          "output_type": "stream",
          "name": "stdout",
          "text": [
            "0\n"
          ]
        }
      ]
    },
    {
      "cell_type": "markdown",
      "source": [
        "### `Q-11:` Softmax function\n",
        "\n",
        "Create a Python function to calculate the Softmax of the given numpy 1D array. The function only accepts the numpy 1D array, otherwise raise error.\n",
        "\n",
        "$$\\Large \\sigma(\\vec z)_i = \\frac{e^{z_i}}{\\sum_{j=i}^{K}{e^{z_j}}}$$\n",
        "\n",
        "https://en.wikipedia.org/wiki/Softmax_function\n",
        "\n"
      ],
      "metadata": {
        "id": "pwgPz-3l5ic5"
      }
    },
    {
      "cell_type": "markdown",
      "source": [
        "**Example 1:**\n",
        "\n",
        "Input:\n",
        "```bash\n",
        "[86.03331084 37.7285648  48.64908087 87.16563062 38.40852563 37.20006318]\n",
        "```\n",
        "\n",
        "Output:\n",
        "```bash\n",
        "[2.43733249e-01, 2.56112115e-22, 1.41628284e-17, 7.56266751e-01,\n",
        "       5.05514197e-22, 1.50974911e-22]\n",
        "```\n",
        "\n",
        "**Example 2:**\n",
        "\n",
        "Input:\n",
        "```bash\n",
        "[33.17344305 45.61961654 82.05405781 80.9647098  68.82830233 91.52064278]\n",
        "```\n",
        "\n",
        "Output:\n",
        "```bash\n",
        "[4.57181035e-26, 1.16249923e-20, 7.73872596e-05, 2.60358426e-05,\n",
        "       1.39571531e-10, 9.99896577e-01]\n",
        "```"
      ],
      "metadata": {
        "id": "eZ3WJt6UM1ul"
      }
    },
    {
      "cell_type": "code",
      "source": [
        "#Code here\n",
        "def softmaxfn(a):\n",
        "  out=np.array([])\n",
        "  if np.ndim(a)==1:\n",
        "    dr = np.sum(np.exp(a))\n",
        "    out = np.exp(a)/dr\n",
        "  else:\n",
        "    raise Exception('Only 1D are allowed')\n",
        "  return out\n",
        "softmaxfn(np.array([33.17344305,45.61961654,82.05405781,80.9647098,68.82830233,91.52064278]))"
      ],
      "metadata": {
        "id": "VNzj05lkNaNi",
        "outputId": "28d77d25-1769-4fd5-b5d8-cc8cc5b2efd0",
        "colab": {
          "base_uri": "https://localhost:8080/"
        }
      },
      "execution_count": 50,
      "outputs": [
        {
          "output_type": "execute_result",
          "data": {
            "text/plain": [
              "array([4.57181033e-26, 1.16249922e-20, 7.73872594e-05, 2.60358426e-05,\n",
              "       1.39571531e-10, 9.99896577e-01])"
            ]
          },
          "metadata": {},
          "execution_count": 50
        }
      ]
    },
    {
      "cell_type": "markdown",
      "source": [
        "### `Q-12:` Vertical stack\n",
        "\n",
        "Write a python function that accepts infinite number of numpy arrays and do the vertical stack to them. Then return that new array as result. The function only accepts the numpy array, otherwise raise error.\n",
        "\n"
      ],
      "metadata": {
        "id": "k4JWSwWu_HXg"
      }
    },
    {
      "cell_type": "markdown",
      "source": [
        "**Example 1:**\n",
        "\n",
        "Input:\n",
        "```bash\n",
        "a= [[0 1 2 3 4]\n",
        " [5 6 7 8 9]]\n",
        "\n",
        "b= [[1 1 1 1 1]\n",
        " [1 1 1 1 1]]\n",
        "```\n",
        "\n",
        "Output:\n",
        "\n",
        "```bash\n",
        "[[0 1 2 3 4]\n",
        " [5 6 7 8 9]\n",
        " [1 1 1 1 1]\n",
        " [1 1 1 1 1]]\n",
        "```\n",
        "\n",
        "**Example 2:**\n",
        "\n",
        "Input:\n",
        "```bash\n",
        "a= [[0 1 2 3 4]\n",
        " [5 6 7 8 9]]\n",
        "\n",
        "b= [[1 1 1 1 1]\n",
        " [1 1 1 1 1]]\n",
        "\n",
        "c= [[0.10117373 0.1677244  0.73764059 0.83166097 0.48985695]\n",
        " [0.44581567 0.13502419 0.55692335 0.16479622 0.61193593]]\n",
        "```\n",
        "\n",
        "Output:\n",
        "```bash\n",
        "[[0.         1.         2.         3.         4.        ]\n",
        " [5.         6.         7.         8.         9.        ]\n",
        " [1.         1.         1.         1.         1.        ]\n",
        " [1.         1.         1.         1.         1.        ]\n",
        " [0.10117373 0.1677244  0.73764059 0.83166097 0.48985695]\n",
        " [0.44581567 0.13502419 0.55692335 0.16479622 0.61193593]]\n",
        "```"
      ],
      "metadata": {
        "id": "XhhV3mraNAWr"
      }
    },
    {
      "cell_type": "code",
      "source": [
        "#Coder here\n",
        "def vst(*args):\n",
        "\n",
        "  x = np.vstack((args))\n",
        "  return x\n",
        "a = np.array([[0,1,2,3,4],[5,6,7,8,9]])\n",
        "b = np.array([[1,1,1,1,1],[1,1,1,1,1]])\n",
        "c = np.array([[0.10117373,0.1677244,0.73764059,0.83166097,0.48985695],[0.44581567,0.13502419,0.55692335,0.16479622,0.61193593]] )\n",
        "vst(a,b,c)"
      ],
      "metadata": {
        "id": "dhtnbSj6NP8z",
        "outputId": "2a9ca05b-3198-4ae7-edf8-dcc23f1a9190",
        "colab": {
          "base_uri": "https://localhost:8080/"
        }
      },
      "execution_count": 58,
      "outputs": [
        {
          "output_type": "execute_result",
          "data": {
            "text/plain": [
              "array([[0.        , 1.        , 2.        , 3.        , 4.        ],\n",
              "       [5.        , 6.        , 7.        , 8.        , 9.        ],\n",
              "       [1.        , 1.        , 1.        , 1.        , 1.        ],\n",
              "       [1.        , 1.        , 1.        , 1.        , 1.        ],\n",
              "       [0.10117373, 0.1677244 , 0.73764059, 0.83166097, 0.48985695],\n",
              "       [0.44581567, 0.13502419, 0.55692335, 0.16479622, 0.61193593]])"
            ]
          },
          "metadata": {},
          "execution_count": 58
        }
      ]
    },
    {
      "cell_type": "markdown",
      "source": [
        "### `Q-13:` Dates\n",
        "\n",
        "Create a python function named **date_array** that accepts two dates as string format and returns a numpy array of dates between those 2 dates. The function only accept 2 strings, otherwise raise error. The date format should be like this only: `2022-12-6`. The end date should be included and for simplicity, choose dates from a same year.\n",
        "\n"
      ],
      "metadata": {
        "id": "3mk8T6CuC2DP"
      }
    },
    {
      "cell_type": "markdown",
      "source": [
        "**Example 1:**\n",
        "\n",
        "Input:\n",
        "```bash\n",
        "date_array(start = '2020-09-15', end = '2020-09-25')\n",
        "```\n",
        "\n",
        "Output:\n",
        "```bash\n",
        "['2020-09-15', '2020-09-16', '2020-09-17', '2020-09-18',\n",
        " '2020-09-19', '2020-09-20', '2020-09-21', '2020-09-22',\n",
        " '2020-09-23', '2020-09-24', '2020-09-25']\n",
        "```\n",
        "\n",
        "**Example 2:**\n",
        "\n",
        "Input:\n",
        "```bash\n",
        "date_array(start = '2022-12-01', end = '2022-12-06')\n",
        "```\n",
        "\n",
        "Output:\n",
        "```bash\n",
        "['2022-12-01', '2022-12-02', '2022-12-03', '2022-12-04', '2022-12-05', '2022-12-06']\n",
        "```\n",
        "\n",
        "**Example 3:**\n",
        "\n",
        "Input:\n",
        "```bash\n",
        "date_array(start = '2020-11-25', end = '2020-11-30')\n",
        "```\n",
        "\n",
        "Output:\n",
        "```bash\n",
        "['2020-11-25', '2020-11-26', '2020-11-27', '2020-11-28',\n",
        " '2020-11-29', '2020-11-30']\n",
        "```"
      ],
      "metadata": {
        "id": "E3IgjnTTNFEk"
      }
    },
    {
      "cell_type": "code",
      "source": [
        "#Code here\n",
        "def date_array(start,end):\n",
        "  x = np."
      ],
      "metadata": {
        "id": "Yj5PBfQQNTnL"
      },
      "execution_count": null,
      "outputs": []
    },
    {
      "cell_type": "markdown",
      "source": [
        "###`Q-14:` Subtract the mean of each row from a matrix."
      ],
      "metadata": {
        "id": "bcEp0wTWQijK"
      }
    },
    {
      "cell_type": "code",
      "source": [
        "#code here\n",
        "x = np.arange(9).reshape(3,3)\n",
        "print('Matrix',x)\n",
        "mean_x = np.mean(x,axis=1)\n",
        "print(mean_x)\n",
        "print('subtracted matrix',x-mean_x)"
      ],
      "metadata": {
        "id": "rpILVGcgQzMo",
        "outputId": "fccdc8f4-5166-4a51-db43-3b610bbddebb",
        "colab": {
          "base_uri": "https://localhost:8080/"
        }
      },
      "execution_count": 67,
      "outputs": [
        {
          "output_type": "stream",
          "name": "stdout",
          "text": [
            "Matrix [[0 1 2]\n",
            " [3 4 5]\n",
            " [6 7 8]]\n",
            "[1. 4. 7.]\n",
            "subtracted matrix [[-1. -3. -5.]\n",
            " [ 2.  0. -2.]\n",
            " [ 5.  3.  1.]]\n"
          ]
        }
      ]
    },
    {
      "cell_type": "markdown",
      "source": [
        "###`Q-15:` Swap column-1 of array with column-2 in the array."
      ],
      "metadata": {
        "id": "A-dMVlPPSBTT"
      }
    },
    {
      "cell_type": "code",
      "source": [
        "#Code here\n",
        "a=np.arange(12).reshape(3,4)\n",
        "print(a)\n",
        "a[:,[0,1]]=a[:,[1,0]]\n",
        "print(a)"
      ],
      "metadata": {
        "id": "3RtngM9-Q6S7",
        "outputId": "d82bbfbd-9225-4bb9-9813-d5bcdb8c85e5",
        "colab": {
          "base_uri": "https://localhost:8080/"
        }
      },
      "execution_count": 63,
      "outputs": [
        {
          "output_type": "stream",
          "name": "stdout",
          "text": [
            "[[ 0  1  2  3]\n",
            " [ 4  5  6  7]\n",
            " [ 8  9 10 11]]\n",
            "[[ 1  0  2  3]\n",
            " [ 5  4  6  7]\n",
            " [ 9  8 10 11]]\n"
          ]
        }
      ]
    },
    {
      "cell_type": "code",
      "source": [],
      "metadata": {
        "id": "ueoMV_LlSnGU"
      },
      "execution_count": null,
      "outputs": []
    },
    {
      "cell_type": "markdown",
      "source": [
        "###`Q-16:` Replace odd elements in arrays with -1."
      ],
      "metadata": {
        "id": "cB4VMexvS6Zi"
      }
    },
    {
      "cell_type": "code",
      "source": [
        "#Code here"
      ],
      "metadata": {
        "id": "Bt83nXEVS5O4"
      },
      "execution_count": null,
      "outputs": []
    },
    {
      "cell_type": "code",
      "source": [
        "x=np.array([2,4,2,4,6,3,1,4,5,7,9,11])\n",
        "x[x%2!=0]=-1\n",
        "x\n"
      ],
      "metadata": {
        "id": "1ZlvMaXLVyoW",
        "outputId": "4088fc85-1e4f-465b-c46b-f35e86ee3bb2",
        "colab": {
          "base_uri": "https://localhost:8080/"
        }
      },
      "execution_count": 52,
      "outputs": [
        {
          "output_type": "execute_result",
          "data": {
            "text/plain": [
              "array([ 2,  4,  2,  4,  6, -1, -1,  4, -1, -1, -1, -1])"
            ]
          },
          "metadata": {},
          "execution_count": 52
        }
      ]
    },
    {
      "cell_type": "markdown",
      "source": [
        "###`Q-17:` Given two arrays of same shape make an array of max out of two arrays. (Numpy way)\n",
        "```\n",
        "a=np.array([6,3,1,5,8])\n",
        "b=np.array([3,2,1,7,2])\n",
        "\n",
        "Result-> [6 3 1 7 8]\n",
        "```"
      ],
      "metadata": {
        "id": "kf_qvmBxWIT_"
      }
    },
    {
      "cell_type": "code",
      "source": [
        "#Code here\n",
        "a=np.array([6,3,1,5,8])\n",
        "b=np.array([3,2,1,7,2])\n",
        "x=[]\n",
        "for i in range(len(a)):\n",
        "  if a[i]<b[i]:\n",
        "    x.append(b[i])\n",
        "  else:\n",
        "    x.append(a[i])\n",
        "x\n"
      ],
      "metadata": {
        "id": "TB9ZvF-EZSfu",
        "outputId": "8994fc41-81d5-4549-a36d-9e66e11e6a9f",
        "colab": {
          "base_uri": "https://localhost:8080/"
        }
      },
      "execution_count": 32,
      "outputs": [
        {
          "output_type": "execute_result",
          "data": {
            "text/plain": [
              "[6, 3, 1, 7, 8]"
            ]
          },
          "metadata": {},
          "execution_count": 32
        }
      ]
    },
    {
      "cell_type": "code",
      "source": [],
      "metadata": {
        "id": "D7ad-A6jZzCL"
      },
      "execution_count": null,
      "outputs": []
    },
    {
      "cell_type": "markdown",
      "source": [
        "###`Q-18` Answer below asked questions on given array:\n",
        "1. Fetch Every alternate column of the array\n",
        "2. Normalise the given array\n",
        "\n",
        "https://en.wikipedia.org/wiki/Normalization_(statistics)\n",
        "\n",
        "There are different form of normalisation for this question use below formula.\n",
        "\n",
        "$$\\large X_{normalized} = \\frac{X - X_{min}}{X_{max} - X_{min}}$$\n",
        "\n",
        "```python\n",
        "arr1=np.random.randint(low=1, high=10000, size=40).reshape(8,5)\n",
        "```\n"
      ],
      "metadata": {
        "id": "iOQLUIeGc3zA"
      }
    },
    {
      "cell_type": "code",
      "source": [
        "# Given\n",
        "arr1=np.random.randint(low=1, high=10000, size=40).reshape(8,5)\n",
        "arr1"
      ],
      "metadata": {
        "colab": {
          "base_uri": "https://localhost:8080/"
        },
        "id": "vjSm18k3d_1p",
        "outputId": "75ca2e71-d762-4cf5-ce39-bf048317d6c0"
      },
      "execution_count": 15,
      "outputs": [
        {
          "output_type": "execute_result",
          "data": {
            "text/plain": [
              "array([[9987, 7263, 4754,  297, 7769],\n",
              "       [1813, 4963,  636, 8794, 4718],\n",
              "       [4575, 4475,  178, 9218, 5603],\n",
              "       [7554, 1437, 7457, 4413, 8106],\n",
              "       [3977, 4205, 8331, 8162, 7642],\n",
              "       [1114, 1872, 7820, 5611, 8176],\n",
              "       [6158, 3392, 6911,  480,  969],\n",
              "       [8868, 1358, 2763, 3410, 6849]])"
            ]
          },
          "metadata": {},
          "execution_count": 15
        }
      ]
    },
    {
      "cell_type": "code",
      "source": [
        "#Code here\n",
        "arr1[:,::2]"
      ],
      "metadata": {
        "id": "d7u8DB47eBfQ",
        "outputId": "7d54aaf2-7c0c-44dc-e64b-b1b251826cc6",
        "colab": {
          "base_uri": "https://localhost:8080/"
        }
      },
      "execution_count": 18,
      "outputs": [
        {
          "output_type": "execute_result",
          "data": {
            "text/plain": [
              "array([[9987, 4754, 7769],\n",
              "       [1813,  636, 4718],\n",
              "       [4575,  178, 5603],\n",
              "       [7554, 7457, 8106],\n",
              "       [3977, 8331, 7642],\n",
              "       [1114, 7820, 8176],\n",
              "       [6158, 6911,  969],\n",
              "       [8868, 2763, 6849]])"
            ]
          },
          "metadata": {},
          "execution_count": 18
        }
      ]
    },
    {
      "cell_type": "code",
      "source": [
        "def normalize(arr1):\n",
        "  return (arr1-np.min(arr1))/(np.max(arr1)-np.min(arr1))\n",
        "normalize(arr1)"
      ],
      "metadata": {
        "id": "f9p5AOogmQyS",
        "outputId": "540bc941-6cb2-4ba8-d171-9df6abcacc3a",
        "colab": {
          "base_uri": "https://localhost:8080/"
        }
      },
      "execution_count": 19,
      "outputs": [
        {
          "output_type": "execute_result",
          "data": {
            "text/plain": [
              "array([[1.        , 0.72229585, 0.46651035, 0.01213172, 0.77388113],\n",
              "       [0.16668366, 0.48781731, 0.04669181, 0.878377  , 0.46284025],\n",
              "       [0.4482618 , 0.43806708, 0.        , 0.92160261, 0.55306351],\n",
              "       [0.75196248, 0.12835151, 0.74207361, 0.43174636, 0.80823733],\n",
              "       [0.38729738, 0.41054134, 0.83117545, 0.81394638, 0.76093384],\n",
              "       [0.09542257, 0.17269854, 0.77908044, 0.55387909, 0.81537364],\n",
              "       [0.6096442 , 0.32765827, 0.68641044, 0.03078805, 0.08064023],\n",
              "       [0.88592109, 0.12029769, 0.26353349, 0.32949332, 0.68008971]])"
            ]
          },
          "metadata": {},
          "execution_count": 19
        }
      ]
    },
    {
      "cell_type": "markdown",
      "source": [
        "###`Q-19:` Write a function which will accept 2 arguments.\n",
        "First: A 1D numpy array arr\n",
        "\n",
        "Second: An integer n {Please make sure n<=len(arr)}\n",
        "\n",
        "Output: The output should be the nth largest item out of the array\n",
        "```\n",
        "# Example1 : arr=(12,34,40,7,1,0) and n=3, the output should be 12\n",
        "# Example2 : arr=(12,34,40,7,1,0) and n=1, the output should be 40\n",
        "```"
      ],
      "metadata": {
        "id": "jCzsVEKLgGNo"
      }
    },
    {
      "cell_type": "code",
      "source": [
        "#Code here\n",
        "def largest(arr,n):\n",
        "  if n<=len(arr):\n",
        "    arr = np.flip(np.sort(arr))\n",
        "    print('the {}the largest item of the array is {}'.format(n,arr[n-1]))\n",
        "  else:\n",
        "    raise Exception(\"the value of n shouldn't be larger than the array length\")\n",
        "largest([12,34,40,7,1,0],3)\n"
      ],
      "metadata": {
        "id": "J4AzkDk7gXSG",
        "outputId": "f378c29d-9536-4c71-8a6b-ef8c43ec569a",
        "colab": {
          "base_uri": "https://localhost:8080/"
        }
      },
      "execution_count": 11,
      "outputs": [
        {
          "output_type": "stream",
          "name": "stdout",
          "text": [
            "the 3the largest item of the array is 12\n"
          ]
        }
      ]
    },
    {
      "cell_type": "markdown",
      "source": [
        "###`Q-20:` Create the following pattern without hardcoding. Use only numpy functions and the below input array a.\n",
        "```\n",
        "# Input: a = np.array([1,2,3])\n",
        "# Output: array([1, 1, 1, 2, 2, 2, 3, 3, 3, 1, 2, 3, 1, 2, 3, 1, 2, 3])\n",
        "```"
      ],
      "metadata": {
        "id": "ja0xPCgjhBsg"
      }
    },
    {
      "cell_type": "code",
      "source": [
        "#code here\n",
        "a = np.array([1,2,3])\n",
        "b=np.repeat(a,3)\n",
        "c=np.tile(a,3)\n",
        "print(b)\n",
        "print(c)\n",
        "x=np.hstack((b,c))\n",
        "print(x)"
      ],
      "metadata": {
        "id": "CndS8TTNhG0F",
        "outputId": "92bf491e-34d0-4027-82b7-0f9b84155fe0",
        "colab": {
          "base_uri": "https://localhost:8080/"
        }
      },
      "execution_count": 9,
      "outputs": [
        {
          "output_type": "stream",
          "name": "stdout",
          "text": [
            "[1 1 1 2 2 2 3 3 3]\n",
            "[1 2 3 1 2 3 1 2 3]\n",
            "[1 1 1 2 2 2 3 3 3 1 2 3 1 2 3 1 2 3]\n"
          ]
        }
      ]
    }
  ]
}